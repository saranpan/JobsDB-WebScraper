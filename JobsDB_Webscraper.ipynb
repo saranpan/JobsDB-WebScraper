{
  "nbformat": 4,
  "nbformat_minor": 0,
  "metadata": {
    "colab": {
      "name": "JobsDB Webscraper ",
      "provenance": [],
      "collapsed_sections": [],
      "include_colab_link": true
    },
    "kernelspec": {
      "display_name": "Python 3",
      "name": "python3"
    },
    "language_info": {
      "name": "python"
    },
    "widgets": {
      "application/vnd.jupyter.widget-state+json": {
        "943c0c5f5c4b4ff6a0089614ba5d89af": {
          "model_module": "@jupyter-widgets/controls",
          "model_name": "HBoxModel",
          "model_module_version": "1.5.0",
          "state": {
            "_view_name": "HBoxView",
            "_dom_classes": [],
            "_model_name": "HBoxModel",
            "_view_module": "@jupyter-widgets/controls",
            "_model_module_version": "1.5.0",
            "_view_count": null,
            "_view_module_version": "1.5.0",
            "box_style": "",
            "layout": "IPY_MODEL_24dc4e7c5bca4684954674155288b10f",
            "_model_module": "@jupyter-widgets/controls",
            "children": [
              "IPY_MODEL_7d1e37a600fe4e879fa0b6a219f9aa6a",
              "IPY_MODEL_1739c837af8a415b82a50e567f1692e5",
              "IPY_MODEL_1ac4e7a21e004711bff0208a19fd89c7"
            ]
          }
        },
        "24dc4e7c5bca4684954674155288b10f": {
          "model_module": "@jupyter-widgets/base",
          "model_name": "LayoutModel",
          "model_module_version": "1.2.0",
          "state": {
            "_view_name": "LayoutView",
            "grid_template_rows": null,
            "right": null,
            "justify_content": null,
            "_view_module": "@jupyter-widgets/base",
            "overflow": null,
            "_model_module_version": "1.2.0",
            "_view_count": null,
            "flex_flow": null,
            "width": null,
            "min_width": null,
            "border": null,
            "align_items": null,
            "bottom": null,
            "_model_module": "@jupyter-widgets/base",
            "top": null,
            "grid_column": null,
            "overflow_y": null,
            "overflow_x": null,
            "grid_auto_flow": null,
            "grid_area": null,
            "grid_template_columns": null,
            "flex": null,
            "_model_name": "LayoutModel",
            "justify_items": null,
            "grid_row": null,
            "max_height": null,
            "align_content": null,
            "visibility": null,
            "align_self": null,
            "height": null,
            "min_height": null,
            "padding": null,
            "grid_auto_rows": null,
            "grid_gap": null,
            "max_width": null,
            "order": null,
            "_view_module_version": "1.2.0",
            "grid_template_areas": null,
            "object_position": null,
            "object_fit": null,
            "grid_auto_columns": null,
            "margin": null,
            "display": null,
            "left": null
          }
        },
        "7d1e37a600fe4e879fa0b6a219f9aa6a": {
          "model_module": "@jupyter-widgets/controls",
          "model_name": "HTMLModel",
          "model_module_version": "1.5.0",
          "state": {
            "_view_name": "HTMLView",
            "style": "IPY_MODEL_deeb9275543a487eb70b6050baad356f",
            "_dom_classes": [],
            "description": "",
            "_model_name": "HTMLModel",
            "placeholder": "​",
            "_view_module": "@jupyter-widgets/controls",
            "_model_module_version": "1.5.0",
            "value": "Processing: 100%",
            "_view_count": null,
            "_view_module_version": "1.5.0",
            "description_tooltip": null,
            "_model_module": "@jupyter-widgets/controls",
            "layout": "IPY_MODEL_17762bb646e840788727f9238b446b5a"
          }
        },
        "1739c837af8a415b82a50e567f1692e5": {
          "model_module": "@jupyter-widgets/controls",
          "model_name": "FloatProgressModel",
          "model_module_version": "1.5.0",
          "state": {
            "_view_name": "ProgressView",
            "style": "IPY_MODEL_e687f7c2e1ee4c3bbab462e8aad7f291",
            "_dom_classes": [],
            "description": "",
            "_model_name": "FloatProgressModel",
            "bar_style": "success",
            "max": 2,
            "_view_module": "@jupyter-widgets/controls",
            "_model_module_version": "1.5.0",
            "value": 2,
            "_view_count": null,
            "_view_module_version": "1.5.0",
            "orientation": "horizontal",
            "min": 0,
            "description_tooltip": null,
            "_model_module": "@jupyter-widgets/controls",
            "layout": "IPY_MODEL_2004759889754f498176080e06e42eec"
          }
        },
        "1ac4e7a21e004711bff0208a19fd89c7": {
          "model_module": "@jupyter-widgets/controls",
          "model_name": "HTMLModel",
          "model_module_version": "1.5.0",
          "state": {
            "_view_name": "HTMLView",
            "style": "IPY_MODEL_e3d842b5173d4094b8894d21e32f1cac",
            "_dom_classes": [],
            "description": "",
            "_model_name": "HTMLModel",
            "placeholder": "​",
            "_view_module": "@jupyter-widgets/controls",
            "_model_module_version": "1.5.0",
            "value": " 2/2 [00:03&lt;00:00,  1.62s/it]",
            "_view_count": null,
            "_view_module_version": "1.5.0",
            "description_tooltip": null,
            "_model_module": "@jupyter-widgets/controls",
            "layout": "IPY_MODEL_ab84d2f48a2c496484953ed784fa6bce"
          }
        },
        "deeb9275543a487eb70b6050baad356f": {
          "model_module": "@jupyter-widgets/controls",
          "model_name": "DescriptionStyleModel",
          "model_module_version": "1.5.0",
          "state": {
            "_view_name": "StyleView",
            "_model_name": "DescriptionStyleModel",
            "description_width": "",
            "_view_module": "@jupyter-widgets/base",
            "_model_module_version": "1.5.0",
            "_view_count": null,
            "_view_module_version": "1.2.0",
            "_model_module": "@jupyter-widgets/controls"
          }
        },
        "17762bb646e840788727f9238b446b5a": {
          "model_module": "@jupyter-widgets/base",
          "model_name": "LayoutModel",
          "model_module_version": "1.2.0",
          "state": {
            "_view_name": "LayoutView",
            "grid_template_rows": null,
            "right": null,
            "justify_content": null,
            "_view_module": "@jupyter-widgets/base",
            "overflow": null,
            "_model_module_version": "1.2.0",
            "_view_count": null,
            "flex_flow": null,
            "width": null,
            "min_width": null,
            "border": null,
            "align_items": null,
            "bottom": null,
            "_model_module": "@jupyter-widgets/base",
            "top": null,
            "grid_column": null,
            "overflow_y": null,
            "overflow_x": null,
            "grid_auto_flow": null,
            "grid_area": null,
            "grid_template_columns": null,
            "flex": null,
            "_model_name": "LayoutModel",
            "justify_items": null,
            "grid_row": null,
            "max_height": null,
            "align_content": null,
            "visibility": null,
            "align_self": null,
            "height": null,
            "min_height": null,
            "padding": null,
            "grid_auto_rows": null,
            "grid_gap": null,
            "max_width": null,
            "order": null,
            "_view_module_version": "1.2.0",
            "grid_template_areas": null,
            "object_position": null,
            "object_fit": null,
            "grid_auto_columns": null,
            "margin": null,
            "display": null,
            "left": null
          }
        },
        "e687f7c2e1ee4c3bbab462e8aad7f291": {
          "model_module": "@jupyter-widgets/controls",
          "model_name": "ProgressStyleModel",
          "model_module_version": "1.5.0",
          "state": {
            "_view_name": "StyleView",
            "_model_name": "ProgressStyleModel",
            "description_width": "",
            "_view_module": "@jupyter-widgets/base",
            "_model_module_version": "1.5.0",
            "_view_count": null,
            "_view_module_version": "1.2.0",
            "bar_color": null,
            "_model_module": "@jupyter-widgets/controls"
          }
        },
        "2004759889754f498176080e06e42eec": {
          "model_module": "@jupyter-widgets/base",
          "model_name": "LayoutModel",
          "model_module_version": "1.2.0",
          "state": {
            "_view_name": "LayoutView",
            "grid_template_rows": null,
            "right": null,
            "justify_content": null,
            "_view_module": "@jupyter-widgets/base",
            "overflow": null,
            "_model_module_version": "1.2.0",
            "_view_count": null,
            "flex_flow": null,
            "width": null,
            "min_width": null,
            "border": null,
            "align_items": null,
            "bottom": null,
            "_model_module": "@jupyter-widgets/base",
            "top": null,
            "grid_column": null,
            "overflow_y": null,
            "overflow_x": null,
            "grid_auto_flow": null,
            "grid_area": null,
            "grid_template_columns": null,
            "flex": null,
            "_model_name": "LayoutModel",
            "justify_items": null,
            "grid_row": null,
            "max_height": null,
            "align_content": null,
            "visibility": null,
            "align_self": null,
            "height": null,
            "min_height": null,
            "padding": null,
            "grid_auto_rows": null,
            "grid_gap": null,
            "max_width": null,
            "order": null,
            "_view_module_version": "1.2.0",
            "grid_template_areas": null,
            "object_position": null,
            "object_fit": null,
            "grid_auto_columns": null,
            "margin": null,
            "display": null,
            "left": null
          }
        },
        "e3d842b5173d4094b8894d21e32f1cac": {
          "model_module": "@jupyter-widgets/controls",
          "model_name": "DescriptionStyleModel",
          "model_module_version": "1.5.0",
          "state": {
            "_view_name": "StyleView",
            "_model_name": "DescriptionStyleModel",
            "description_width": "",
            "_view_module": "@jupyter-widgets/base",
            "_model_module_version": "1.5.0",
            "_view_count": null,
            "_view_module_version": "1.2.0",
            "_model_module": "@jupyter-widgets/controls"
          }
        },
        "ab84d2f48a2c496484953ed784fa6bce": {
          "model_module": "@jupyter-widgets/base",
          "model_name": "LayoutModel",
          "model_module_version": "1.2.0",
          "state": {
            "_view_name": "LayoutView",
            "grid_template_rows": null,
            "right": null,
            "justify_content": null,
            "_view_module": "@jupyter-widgets/base",
            "overflow": null,
            "_model_module_version": "1.2.0",
            "_view_count": null,
            "flex_flow": null,
            "width": null,
            "min_width": null,
            "border": null,
            "align_items": null,
            "bottom": null,
            "_model_module": "@jupyter-widgets/base",
            "top": null,
            "grid_column": null,
            "overflow_y": null,
            "overflow_x": null,
            "grid_auto_flow": null,
            "grid_area": null,
            "grid_template_columns": null,
            "flex": null,
            "_model_name": "LayoutModel",
            "justify_items": null,
            "grid_row": null,
            "max_height": null,
            "align_content": null,
            "visibility": null,
            "align_self": null,
            "height": null,
            "min_height": null,
            "padding": null,
            "grid_auto_rows": null,
            "grid_gap": null,
            "max_width": null,
            "order": null,
            "_view_module_version": "1.2.0",
            "grid_template_areas": null,
            "object_position": null,
            "object_fit": null,
            "grid_auto_columns": null,
            "margin": null,
            "display": null,
            "left": null
          }
        }
      }
    }
  },
  "cells": [
    {
      "cell_type": "markdown",
      "metadata": {
        "id": "view-in-github",
        "colab_type": "text"
      },
      "source": [
        "<a href=\"https://colab.research.google.com/github/wallik2/Jobsdb_WebScraper/blob/main/JobsDB_Webscraper.ipynb\" target=\"_parent\"><img src=\"https://colab.research.google.com/assets/colab-badge.svg\" alt=\"Open In Colab\"/></a>"
      ]
    },
    {
      "cell_type": "code",
      "metadata": {
        "colab": {
          "base_uri": "https://localhost:8080/"
        },
        "id": "s42eFpjkAUV3",
        "outputId": "eb744529-425f-4ea4-f48a-23e2cfc9f950"
      },
      "source": [
        "!pip install beautifulsoup4\n",
        "!pip install lxml\n",
        "!pip install tqdm"
      ],
      "execution_count": 1,
      "outputs": [
        {
          "output_type": "stream",
          "name": "stdout",
          "text": [
            "Requirement already satisfied: beautifulsoup4 in /usr/local/lib/python3.7/dist-packages (4.6.3)\n",
            "Requirement already satisfied: lxml in /usr/local/lib/python3.7/dist-packages (4.2.6)\n",
            "Requirement already satisfied: tqdm in /usr/local/lib/python3.7/dist-packages (4.62.3)\n"
          ]
        }
      ]
    },
    {
      "cell_type": "code",
      "metadata": {
        "colab": {
          "base_uri": "https://localhost:8080/"
        },
        "id": "QXSdKHcNAZVE",
        "outputId": "b80ff4bc-b11f-4bf4-ebb7-3507b2140b1b"
      },
      "source": [
        "from bs4 import BeautifulSoup\n",
        "import requests \n",
        "import pandas as pd, numpy as np\n",
        "import re\n",
        "import csv\n",
        "from tqdm.notebook import tqdm\n",
        "\n",
        "from google.colab import data_table\n",
        "data_table.enable_dataframe_formatter()\n",
        "\n",
        "\n",
        "print(\"Setup completed\")"
      ],
      "execution_count": 2,
      "outputs": [
        {
          "output_type": "stream",
          "name": "stdout",
          "text": [
            "Setup completed\n"
          ]
        }
      ]
    },
    {
      "cell_type": "code",
      "metadata": {
        "id": "vuwH_wJkWwb7"
      },
      "source": [
        "pd.set_option('display.max_colwidth', 20)"
      ],
      "execution_count": 3,
      "outputs": []
    },
    {
      "cell_type": "markdown",
      "metadata": {
        "id": "W1WINiy1BOBt"
      },
      "source": [
        "\n",
        "\n",
        "\n",
        "\n",
        "\n",
        "---\n",
        "\n"
      ]
    },
    {
      "cell_type": "markdown",
      "metadata": {
        "id": "6yTdyAZ8k0yj"
      },
      "source": [
        "Enter your keyword to search here "
      ]
    },
    {
      "cell_type": "code",
      "metadata": {
        "id": "XcVAbSJjBTwK"
      },
      "source": [
        "Job_keyword = 'doctor'               #@param {type: \"string\"}"
      ],
      "execution_count": 4,
      "outputs": []
    },
    {
      "cell_type": "code",
      "metadata": {
        "id": "o20Q_AuguI-A"
      },
      "source": [
        "url = f'https://th.jobsdb.com/th/search-jobs/{Job_keyword}/'\n",
        "\n",
        "#Get source code\n",
        "html_text = requests.get(url).text"
      ],
      "execution_count": 5,
      "outputs": []
    },
    {
      "cell_type": "markdown",
      "metadata": {
        "id": "HApB3x4AycnB"
      },
      "source": [
        "\n",
        "\n",
        "---\n",
        "\n"
      ]
    },
    {
      "cell_type": "code",
      "metadata": {
        "id": "s8yBtjGMBBmv"
      },
      "source": [
        "# whole page  # convert to soup object\n",
        "soup = BeautifulSoup(html_text,'lxml')"
      ],
      "execution_count": 6,
      "outputs": []
    },
    {
      "cell_type": "code",
      "metadata": {
        "id": "CAJtgdMOBDjx"
      },
      "source": [
        "# jobs object\n",
        "jobs = soup.find_all(class_=\"sx2jih0 zcydq852 zcydq842 zcydq872 zcydq862 zcydq82a zcydq832 zcydq8d2 zcydq8cq\")"
      ],
      "execution_count": 7,
      "outputs": []
    },
    {
      "cell_type": "markdown",
      "metadata": {
        "id": "1vhXT4qxH9Ew"
      },
      "source": [
        "<details>\n",
        "  <summary>HTML of Job title and Job company</summary>\n",
        "\n",
        "                        <div class=\"sx2jih0 zcydq89i\">\n",
        "                         <h1 class=\"sx2jih0 zcydq82q _18qlyvc0 _18qlyvcv _18qlyvc3 _18qlyvc8\">\n",
        "                          <a class=\"DvvsL_0 _1p9OP\" href=\"/th/en/job/data-scientist-300003002440231?token=0~f866067f-8b1f-4bb8-80b1-1c411802dd0a&amp;sectionRank=31&amp;jobId=jobsdb-th-job-300003002440231\" rel=\"nofollow noopener noreferrer\" target=\"_top\">\n",
        "                           <div class=\"sx2jih0 _2j8fZ_0 sIMFL_0 _1JtWu_0\">\n",
        "                            Data Scientist\n",
        "                           </div>\n",
        "                          </a>\n",
        "                         </h1>\n",
        "                         <span class=\"sx2jih0 zcydq82q _18qlyvc0 _18qlyvcv _18qlyvc1 _18qlyvc8\">\n",
        "                          Donuts Bangkok Co., Ltd.\n",
        "                         </span>\n",
        "                        </div>"
      ]
    },
    {
      "cell_type": "code",
      "metadata": {
        "id": "v7F1PLCCHC6U"
      },
      "source": [
        "# check the source code if you want to\n",
        "\n",
        "#print(soup.prettify())"
      ],
      "execution_count": 8,
      "outputs": []
    },
    {
      "cell_type": "code",
      "metadata": {
        "colab": {
          "base_uri": "https://localhost:8080/"
        },
        "id": "iOtnpRqHO1uS",
        "outputId": "bbcec385-658b-4a48-858d-3d08ad7e0ce4"
      },
      "source": [
        "# Find the page number available\n",
        "\n",
        "page_number = soup.find_all(class_=\"sx2jih0 sx2jih1 sx2jih6 sx2jih8 zcydq8r zcydq82c zcydq87e zcydq83q zcydq815 tfxl6i0 _3dxvbx0 _3dxvbx1 _18qlyvc0 _18qlyvcv _18qlyvc1 _18qlyvc8 _18qlyvc11\")\n",
        "page_number = re.findall(r'\\d+(?=</option></select>)',str(page_number[0]))\n",
        "\n",
        "page_number = int(page_number[0])\n",
        "\n",
        "print(page_number)"
      ],
      "execution_count": 9,
      "outputs": [
        {
          "output_type": "stream",
          "name": "stdout",
          "text": [
            "2\n"
          ]
        }
      ]
    },
    {
      "cell_type": "markdown",
      "metadata": {
        "id": "1hqyD-KuaBts"
      },
      "source": [
        "\n",
        "\n",
        "---\n",
        "\n"
      ]
    },
    {
      "cell_type": "markdown",
      "metadata": {
        "id": "jLgEnq27Zuet"
      },
      "source": [
        "Jobs object have 2 types : have logo, and have no logo,\n",
        "\n",
        "They have different class name"
      ]
    },
    {
      "cell_type": "markdown",
      "metadata": {
        "id": "foV1PIkCk7xu"
      },
      "source": [
        "We store the data in csv file"
      ]
    },
    {
      "cell_type": "code",
      "metadata": {
        "colab": {
          "base_uri": "https://localhost:8080/"
        },
        "id": "F5G21HvbiZRZ",
        "outputId": "4f5ad5f2-67bd-4667-db6c-150b342df897"
      },
      "source": [
        "csv_file = open('job_records.csv','w')\n",
        "csv_writer = csv.writer(csv_file)\n",
        "csv_writer.writerow(['job title','more info','job_company','job_location','skill requirement 1','skill requirement 2','skill requirement 3','posted time'])"
      ],
      "execution_count": 10,
      "outputs": [
        {
          "output_type": "execute_result",
          "data": {
            "text/plain": [
              "118"
            ]
          },
          "metadata": {},
          "execution_count": 10
        }
      ]
    },
    {
      "cell_type": "code",
      "metadata": {
        "id": "3Wce-pFOBK4C"
      },
      "source": [
        "# Object for each job \n",
        "\n",
        "def scrping(jobs,csv_file): \n",
        "\n",
        "\n",
        "  for index, job in enumerate(jobs):\n",
        "\n",
        "    job_title = job.find('h1',class_='sx2jih0 zcydq82q _18qlyvc0 _18qlyvcv _18qlyvc3 _18qlyvc8').text\n",
        "    more_info = job.h1.a['href']\n",
        "    url_more_info = f'https://th.jobsdb.com/{more_info}'\n",
        "\n",
        "    #for the company that have logo\n",
        "    try:\n",
        "      job_company = job.find('span',class_ ='sx2jih0 zcydq82q _18qlyvc0 _18qlyvcv _18qlyvc1 _18qlyvc8').text\n",
        "\n",
        "    #for the company that doesn't have logo  \n",
        "    except:\n",
        "      job_company = job.find('span',class_ ='sx2jih0 zcydq8s zcydq82u').text\n",
        "    \n",
        "    job_location = job.find('span', class_ = 'sx2jih0 zcydq82q _18qlyvc0 _18qlyvcv _18qlyvc3 _18qlyvc6').text\n",
        "    job_time = job.find('span', class_ = 'sx2jih0 zcydq82q _18qlyvc0 _18qlyvcx _18qlyvc1 _18qlyvc6').text\n",
        "    job_description_uls = job.find('ul', class_ = 'sx2jih0 sx2jih3 h6p8rp0 h6p8rp5')\n",
        "  \n",
        "\n",
        "    # append all skill requirement for each \n",
        "    skill_requirement = []\n",
        "    for ul in job_description_uls:\n",
        "      skill_requirement.append(ul.text)\n",
        "  \n",
        "    # Skill requirement have less than 3\n",
        "    if len(skill_requirement) != 3:\n",
        "\n",
        "      for i in range(3-len(skill_requirement)):\n",
        "        skill_requirement.append(np.nan)\n",
        "\n",
        "\n",
        "    #write csv_file \n",
        "    csv_writer.writerow([job_title,url_more_info,job_company,job_location,skill_requirement[0],skill_requirement[1],skill_requirement[2],job_time])\n",
        "\n",
        "  return csv_file\n"
      ],
      "execution_count": 11,
      "outputs": []
    },
    {
      "cell_type": "code",
      "metadata": {
        "colab": {
          "base_uri": "https://localhost:8080/",
          "height": 70
        },
        "id": "T0Wbe8Vb5hll",
        "outputId": "ea343443-cb30-4514-ec0e-da9421aac0c4"
      },
      "source": [
        "#@title Future project (Forbidden) {display-mode: \"form\"}\n",
        "\n",
        "\"\"\"\n",
        "\n",
        "i=1\n",
        "while i == 1: \n",
        "  df = scrping(jobs,df)\n",
        "  next = soup.find(class_='sx2jih0 zcydq872 zcydq862 zcydq88 zcydq82b zcydq832 zcydq8c6 zcydq824 zcydq82l zcydq82k _1ouuf_0')['href']\n",
        "  #print(next)\n",
        "  url2 = f'https://th.jobsdb.com/{next}'\n",
        "\n",
        "  html_text2 = requests.get(url2).text\n",
        "  soup2 = BeautifulSoup(html_text2,'lxml')\n",
        "  jobs = soup2.find_all(class_=\"sx2jih0 zcydq852 zcydq842 zcydq872 zcydq862 zcydq82a zcydq832 zcydq8d2 zcydq8cq\")\n",
        "\n",
        "\"\"\""
      ],
      "execution_count": 12,
      "outputs": [
        {
          "output_type": "execute_result",
          "data": {
            "application/vnd.google.colaboratory.intrinsic+json": {
              "type": "string"
            },
            "text/plain": [
              "'\\n\\ni=1\\nwhile i == 1: \\n  df = scrping(jobs,df)\\n  next = soup.find(class_=\\'sx2jih0 zcydq872 zcydq862 zcydq88 zcydq82b zcydq832 zcydq8c6 zcydq824 zcydq82l zcydq82k _1ouuf_0\\')[\\'href\\']\\n  #print(next)\\n  url2 = f\\'https://th.jobsdb.com/{next}\\'\\n\\n  html_text2 = requests.get(url2).text\\n  soup2 = BeautifulSoup(html_text2,\\'lxml\\')\\n  jobs = soup2.find_all(class_=\"sx2jih0 zcydq852 zcydq842 zcydq872 zcydq862 zcydq82a zcydq832 zcydq8d2 zcydq8cq\")\\n\\n'"
            ]
          },
          "metadata": {},
          "execution_count": 12
        }
      ]
    },
    {
      "cell_type": "markdown",
      "metadata": {
        "id": "ZSZj_0u3IRlh"
      },
      "source": [
        "                        <div class=\"sx2jih0 zcydq89i\">\n",
        "                         <h1 class=\"sx2jih0 zcydq82q _18qlyvc0 _18qlyvcv _18qlyvc3 _18qlyvc8\">\n",
        "                          <a class=\"DvvsL_0 _1p9OP\" href=\"/th/en/job/data-scientist-300003002440231?token=0~f866067f-8b1f-4bb8-80b1-1c411802dd0a&amp;sectionRank=31&amp;jobId=jobsdb-th-job-300003002440231\" rel=\"nofollow noopener noreferrer\" target=\"_top\">\n",
        "                           <div class=\"sx2jih0 _2j8fZ_0 sIMFL_0 _1JtWu_0\">\n",
        "                            Data Scientist\n",
        "                           </div>\n",
        "                          </a>\n",
        "                         </h1>\n",
        "                         <span class=\"sx2jih0 zcydq82q _18qlyvc0 _18qlyvcv _18qlyvc1 _18qlyvc8\">\n",
        "                          Donuts Bangkok Co., Ltd.\n",
        "                         </span>\n",
        "                        </div>"
      ]
    },
    {
      "cell_type": "code",
      "metadata": {
        "colab": {
          "base_uri": "https://localhost:8080/",
          "height": 84,
          "referenced_widgets": [
            "943c0c5f5c4b4ff6a0089614ba5d89af",
            "24dc4e7c5bca4684954674155288b10f",
            "7d1e37a600fe4e879fa0b6a219f9aa6a",
            "1739c837af8a415b82a50e567f1692e5",
            "1ac4e7a21e004711bff0208a19fd89c7",
            "deeb9275543a487eb70b6050baad356f",
            "17762bb646e840788727f9238b446b5a",
            "e687f7c2e1ee4c3bbab462e8aad7f291",
            "2004759889754f498176080e06e42eec",
            "e3d842b5173d4094b8894d21e32f1cac",
            "ab84d2f48a2c496484953ed784fa6bce"
          ]
        },
        "id": "Z0UL28gWB1q7",
        "outputId": "6c26e468-836f-444f-db47-099484f6ca4e"
      },
      "source": [
        "#MAIN SCRAPER\n",
        "\n",
        "pn = 1\n",
        "print(f\"There are {page_number} pages for keyword '{Job_keyword}'\",'\\n')\n",
        "p_bar = tqdm(range(page_number))\n",
        "#print(f\"There are {page_number} pages for keyword '{Job_keyword}'\")\n",
        "\n",
        "\n",
        "\n",
        "#for i in p_bar:\n",
        "for i in p_bar:\n",
        "  \n",
        "  p_bar.set_description(\"Processing\")\n",
        "\n",
        "  #print(f'> page:{pn}/{page_number}')  \n",
        "  \n",
        "  csv_file = scrping(jobs,csv_file)\n",
        "  \n",
        "  pn += 1\n",
        "  url2 =  f'https://th.jobsdb.com/th/search-jobs/{Job_keyword}/{pn}'\n",
        "\n",
        "  \n",
        "\n",
        "  html_text2 = requests.get(url2).text\n",
        "  soup2 = BeautifulSoup(html_text2,'lxml')\n",
        "  jobs = soup2.find_all(class_=\"sx2jih0 zcydq852 zcydq842 zcydq872 zcydq862 zcydq82a zcydq832 zcydq8d2 zcydq8cq\")\n",
        "\n",
        "  "
      ],
      "execution_count": 13,
      "outputs": [
        {
          "output_type": "stream",
          "name": "stdout",
          "text": [
            "There are 2 pages for keyword 'doctor' \n",
            "\n"
          ]
        },
        {
          "output_type": "display_data",
          "data": {
            "application/vnd.jupyter.widget-view+json": {
              "model_id": "943c0c5f5c4b4ff6a0089614ba5d89af",
              "version_minor": 0,
              "version_major": 2
            },
            "text/plain": [
              "  0%|          | 0/2 [00:00<?, ?it/s]"
            ]
          },
          "metadata": {}
        }
      ]
    },
    {
      "cell_type": "code",
      "metadata": {
        "id": "yjJqUARoj3DB"
      },
      "source": [
        "df = pd.read_csv('job_records.csv',error_bad_lines=False)"
      ],
      "execution_count": 14,
      "outputs": []
    },
    {
      "cell_type": "code",
      "metadata": {
        "colab": {
          "base_uri": "https://localhost:8080/",
          "height": 35
        },
        "id": "_Tdp73pjlG96",
        "outputId": "aa690037-d2c5-4af6-ff08-63b6285257bf"
      },
      "source": [
        "# Download to your local\n",
        "\n",
        "'''\n",
        "\n",
        "from google.colab import files\n",
        "\n",
        "files.download('job_records.csv')\n",
        "\n",
        "'''"
      ],
      "execution_count": 15,
      "outputs": [
        {
          "output_type": "execute_result",
          "data": {
            "application/vnd.google.colaboratory.intrinsic+json": {
              "type": "string"
            },
            "text/plain": [
              "\"\\n\\nfrom google.colab import files\\n\\nfiles.download('job_records.csv')\\n\\n\""
            ]
          },
          "metadata": {},
          "execution_count": 15
        }
      ]
    },
    {
      "cell_type": "code",
      "metadata": {
        "colab": {
          "base_uri": "https://localhost:8080/"
        },
        "id": "6-3xSQkRGK_d",
        "outputId": "89aa480f-9fad-4f6e-8dea-19dcc0c58306"
      },
      "source": [
        "from google.colab import drive\n",
        "drive.mount('/content/drive')"
      ],
      "execution_count": 16,
      "outputs": [
        {
          "output_type": "stream",
          "name": "stdout",
          "text": [
            "Mounted at /content/drive\n"
          ]
        }
      ]
    },
    {
      "cell_type": "code",
      "metadata": {
        "id": "g9Kqt8whl9eb"
      },
      "source": [
        "df.to_csv(f'/content/drive/MyDrive/Jobsdb/keyword: {Job_keyword}.csv')"
      ],
      "execution_count": 17,
      "outputs": []
    },
    {
      "cell_type": "code",
      "metadata": {
        "id": "RnuXQNBkXH-T"
      },
      "source": [
        "df['more info'] = df['more info'].str[:25]"
      ],
      "execution_count": 18,
      "outputs": []
    },
    {
      "cell_type": "code",
      "metadata": {
        "id": "UiLTVfPsXjCY",
        "colab": {
          "base_uri": "https://localhost:8080/",
          "height": 935
        },
        "outputId": "f53fecb8-3811-4a1f-a70a-b5dee0b9fa6e"
      },
      "source": [
        "df"
      ],
      "execution_count": 19,
      "outputs": [
        {
          "output_type": "execute_result",
          "data": {
            "application/vnd.google.colaboratory.module+javascript": "\n      import \"https://ssl.gstatic.com/colaboratory/data_table/a6224c040fa35dcf/data_table.js\";\n\n      window.createDataTable({\n        data: [[{\n            'v': 0,\n            'f': \"0\",\n        },\n\"Medical Director - Head Doctor\",\n\"https://th.jobsdb.com//th\",\n\"Demarest Ltd\",\n\"Phuket\",\nNaN,\nNaN,\nNaN,\n\"3d ago\"],\n [{\n            'v': 1,\n            'f': \"1\",\n        },\n\"Medical Advisor\",\n\"https://th.jobsdb.com//th\",\n\"360 Degree Search Recruitment Co., Ltd.\",\n\"Bangkok\",\n\"Senior Medical Advisor\",\n\"Leading International Pharmaceutical Firm\",\n\"Attractive Remuneration\",\n\"2d ago\"],\n [{\n            'v': 2,\n            'f': \"2\",\n        },\n\"Regulatory Affair (Medical Devices)/\\u0e40\\u0e08\\u0e49\\u0e32\\u0e2b\\u0e19\\u0e49\\u0e32\\u0e17\\u0e35\\u0e48\\u0e1b\\u0e23\\u0e30\\u0e2a\\u0e32\\u0e19\\u0e07\\u0e32\\u0e19\\u0e23\\u0e32\\u0e0a\\u0e01\\u0e32\\u0e23( \\u0e02\\u0e36\\u0e49\\u0e19\\u0e17\\u0e30\\u0e40\\u0e1a\\u0e35\\u0e22\\u0e19\\u0e1c\\u0e25\\u0e34\\u0e15\\u0e20\\u0e31\\u0e13\\u0e11\\u0e4c\\u0e40\\u0e04\\u0e23\\u0e37\\u0e48\\u0e2d\\u0e07\\u0e21\\u0e37\\u0e2d\\u0e41\\u0e1e\\u0e17\\u0e22\\u0e4c)\",\n\"https://th.jobsdb.com//th\",\n\"WINNERGY MEDICAL PUBLIC COMPANY LIMITED\",\n\"Wangthonglang\",\n\"\\u0e21\\u0e35\\u0e42\\u0e2d\\u0e01\\u0e32\\u0e2a\\u0e17\\u0e35\\u0e48\\u0e08\\u0e30\\u0e44\\u0e14\\u0e49\\u0e23\\u0e48\\u0e27\\u0e21\\u0e07\\u0e32\\u0e19\\u0e01\\u0e31\\u0e1a\\u0e1a\\u0e23\\u0e34\\u0e29\\u0e31\\u0e17\\u0e17\\u0e35\\u0e48\\u0e21\\u0e35\\u0e28\\u0e31\\u0e01\\u0e22\\u0e20\\u0e32\\u0e1e\\u0e02\\u0e2d\\u0e07\\u0e44\\u0e17\\u0e22\",\n\"\\u0e2a\\u0e48\\u0e07\\u0e40\\u0e2a\\u0e23\\u0e34\\u0e21\\u0e01\\u0e32\\u0e23\\u0e1e\\u0e31\\u0e12\\u0e19\\u0e32\\u0e15\\u0e19\\u0e40\\u0e2d\\u0e07 \\u0e21\\u0e35\\u0e01\\u0e32\\u0e23\\u0e08\\u0e31\\u0e14\\u0e04\\u0e2d\\u0e23\\u0e4c\\u0e2a\\u0e1d\\u0e36\\u0e01\\u0e2d\\u0e1a\\u0e23\\u0e21\",\n\"\\u0e19\\u0e42\\u0e22\\u0e1a\\u0e32\\u0e22\\u0e17\\u0e33\\u0e07\\u0e32\\u0e19 5 \\u0e27\\u0e31\\u0e19, \\u0e42\\u0e1a\\u0e19\\u0e31\\u0e2a\\u0e1b\\u0e23\\u0e30\\u0e08\\u0e33\\u0e1b\\u0e35, \\u0e1b\\u0e23\\u0e30\\u0e01\\u0e31\\u0e19\\u0e01\\u0e25\\u0e38\\u0e48\\u0e21\",\n\"10h ago\"],\n [{\n            'v': 3,\n            'f': \"3\",\n        },\n\"Staff- Health Claim Assessor (Fax Claim)\",\n\"https://th.jobsdb.com//th\",\n\"Krungthai-AXA Life Insurance Public Company Limited\",\n\"Huaykwang\",\n\"Degree in Nursing\",\n\"2 years' experience in health claim management\",\n\"Reviews, analyzes and approves medical claim\",\n\"9h ago\"],\n [{\n            'v': 4,\n            'f': \"4\",\n        },\n\"\\u0e41\\u0e21\\u0e47\\u0e04\\u0e42\\u0e04\\u0e23 \\u0e2a\\u0e32\\u0e02\\u0e32\\u0e1a\\u0e32\\u0e07\\u0e04\\u0e2d\\u0e41\\u0e2b\\u0e25\\u0e21 (\\u0e40\\u0e08\\u0e23\\u0e34\\u0e0d\\u0e01\\u0e23\\u0e38\\u0e07 109) \\u0e40\\u0e1b\\u0e34\\u0e14\\u0e23\\u0e31\\u0e1a\\u0e2a\\u0e21\\u0e31\\u0e04\\u0e23 \\u0e1e\\u0e19\\u0e31\\u0e01\\u0e07\\u0e32\\u0e19\\u0e2a\\u0e48\\u0e27\\u0e19\\u0e0b\\u0e48\\u0e2d\\u0e21\\u0e1a\\u0e33\\u0e23\\u0e38\\u0e07 (Staff - General Affair)\",\n\"https://th.jobsdb.com//th\",\n\"Siam Makro Public Company Limited\",\n\"Bangkor-laem\",\nNaN,\nNaN,\nNaN,\n\"2d ago\"],\n [{\n            'v': 5,\n            'f': \"5\",\n        },\n\"\\u0e1e\\u0e19\\u0e31\\u0e01\\u0e07\\u0e32\\u0e19\\u0e2a\\u0e48\\u0e27\\u0e19\\u0e0b\\u0e48\\u0e2d\\u0e21\\u0e1a\\u0e33\\u0e23\\u0e38\\u0e07 (Staff - General Affair) \\u0e1b\\u0e23\\u0e30\\u0e08\\u0e33\\u0e41\\u0e21\\u0e47\\u0e04\\u0e42\\u0e04\\u0e23 \\u0e2a\\u0e32\\u0e02\\u0e32\\u0e19\\u0e04\\u0e23\\u0e19\\u0e32\\u0e22\\u0e01\",\n\"https://th.jobsdb.com//th\",\n\"Siam Makro Public Company Limited\",\n\"Nakornnayok\",\nNaN,\nNaN,\nNaN,\n\"2d ago\"],\n [{\n            'v': 6,\n            'f': \"6\",\n        },\n\"\\u0e1e\\u0e19\\u0e31\\u0e01\\u0e07\\u0e32\\u0e19\\u0e2a\\u0e48\\u0e27\\u0e19\\u0e40\\u0e1a\\u0e40\\u0e01\\u0e2d\\u0e23\\u0e35\\u0e48 (\\u0e3aBakery) \\u0e2a\\u0e32\\u0e02\\u0e32\\u0e08\\u0e31\\u0e19\\u0e17\\u0e1a\\u0e38\\u0e23\\u0e35\",\n\"https://th.jobsdb.com//th\",\n\"Siam Makro Public Company Limited\",\n\"Eastern > Others\",\nNaN,\nNaN,\nNaN,\n\"2d ago\"],\n [{\n            'v': 7,\n            'f': \"7\",\n        },\n\"\\u0e1e\\u0e19\\u0e31\\u0e01\\u0e07\\u0e32\\u0e19\\u0e02\\u0e32\\u0e22\\u0e41\\u0e1c\\u0e19\\u0e01\\u0e0b\\u0e35\\u0e25\\u0e23\\u0e16\\u0e02\\u0e38\\u0e14,\\u0e15\\u0e31\\u0e01\\u0e41\\u0e1a\\u0e47\\u0e04\\u0e42\\u0e2e(Doctor seal)\",\n\"https://th.jobsdb.com//th\",\n\"Terminal Seal and Service Co., Ltd.\",\n\"Beungkum\",\nNaN,\nNaN,\nNaN,\n\"6h ago\"],\n [{\n            'v': 8,\n            'f': \"8\",\n        },\n\"\\u0e41\\u0e21\\u0e47\\u0e04\\u0e42\\u0e04\\u0e23 \\u0e2a\\u0e32\\u0e02\\u0e32\\u0e2a\\u0e32\\u0e21\\u0e40\\u0e2a\\u0e19\\u0e41\\u0e25\\u0e30\\u0e2a\\u0e32\\u0e02\\u0e32\\u0e23\\u0e32\\u0e21\\u0e2d\\u0e34\\u0e19\\u0e17\\u0e23\\u0e32 \\u0e40\\u0e1b\\u0e34\\u0e14\\u0e23\\u0e31\\u0e1a\\u0e2a\\u0e21\\u0e31\\u0e04\\u0e23 \\u0e1e\\u0e19\\u0e31\\u0e01\\u0e07\\u0e32\\u0e19\\u0e08\\u0e31\\u0e14\\u0e40\\u0e23\\u0e35\\u0e22\\u0e07\\u0e2a\\u0e34\\u0e19\\u0e04\\u0e49\\u0e32 (\\u0e22\\u0e34\\u0e19\\u0e14\\u0e35\\u0e23\\u0e31\\u0e1a\\u0e19\\u0e31\\u0e01\\u0e28\\u0e36\\u0e01\\u0e29\\u0e32\\u0e08\\u0e1a\\u0e43\\u0e2b\\u0e21\\u0e48)\",\n\"https://th.jobsdb.com//th\",\n\"Siam Makro Public Company Limited\",\n\"Bangkok\",\nNaN,\nNaN,\nNaN,\n\"2d ago\"],\n [{\n            'v': 9,\n            'f': \"9\",\n        },\n\"\\u0e41\\u0e21\\u0e47\\u0e04\\u0e42\\u0e04\\u0e23 \\u0e2a\\u0e32\\u0e02\\u0e32\\u0e1b\\u0e23\\u0e30\\u0e08\\u0e27\\u0e1a\\u0e04\\u0e35\\u0e23\\u0e35\\u0e02\\u0e31\\u0e19\\u0e18\\u0e4c \\u0e40\\u0e1b\\u0e34\\u0e14\\u0e23\\u0e31\\u0e1a\\u0e2a\\u0e21\\u0e31\\u0e04\\u0e23 \\u0e1e\\u0e19\\u0e31\\u0e01\\u0e07\\u0e32\\u0e19\\u0e2a\\u0e48\\u0e27\\u0e19\\u0e2d\\u0e32\\u0e2b\\u0e32\\u0e23\\u0e41\\u0e0a\\u0e48\\u0e41\\u0e02\\u0e47\\u0e07 (Staff - Frozen)\",\n\"https://th.jobsdb.com//th\",\n\"Siam Makro Public Company Limited\",\n\"Prachuap Khiri Khan\",\nNaN,\nNaN,\nNaN,\n\"2d ago\"],\n [{\n            'v': 10,\n            'f': \"10\",\n        },\n\"\\u0e2b\\u0e31\\u0e27\\u0e2b\\u0e19\\u0e49\\u0e32\\u0e41\\u0e1c\\u0e19\\u0e01\\u0e40\\u0e1a\\u0e40\\u0e01\\u0e40\\u0e01\\u0e2d\\u0e23\\u0e35\\u0e48 \\u0e41\\u0e21\\u0e47\\u0e04\\u0e42\\u0e04\\u0e23\\u0e2a\\u0e32\\u0e02\\u0e32\\u0e09\\u0e30\\u0e40\\u0e0a\\u0e34\\u0e07\\u0e40\\u0e17\\u0e23\\u0e32\",\n\"https://th.jobsdb.com//th\",\n\"Siam Makro Public Company Limited\",\n\"Chachoengsao\",\nNaN,\nNaN,\nNaN,\n\"2d ago\"],\n [{\n            'v': 11,\n            'f': \"11\",\n        },\n\"Senior Specialist - Claim Reimbursement\",\n\"https://th.jobsdb.com//th\",\n\"Allianz Ayudhya Assurance Public Company Limited\",\n\"Pathumwan\",\n\"3 years\\u2019 experience in Claims Assessor\",\n\"Professional nursing /medical knowledge\",\n\"Knowledge of claims management policies\",\n\"3d ago\"],\n [{\n            'v': 12,\n            'f': \"12\",\n        },\n\"UNHCR Fundraising Frontliner/\\u0e40\\u0e08\\u0e49\\u0e32\\u0e2b\\u0e19\\u0e49\\u0e32\\u0e17\\u0e35\\u0e48\\u0e23\\u0e30\\u0e14\\u0e21\\u0e17\\u0e38\\u0e19\\u0e20\\u0e32\\u0e04\\u0e2a\\u0e19\\u0e32\\u0e21\",\n\"https://th.jobsdb.com//th\",\n\"UNHC (United Nations High Commissioner for Refugees)\",\n\"Bangkok\",\nNaN,\nNaN,\nNaN,\n\"3d ago\"],\n [{\n            'v': 13,\n            'f': \"13\",\n        },\n\"AR Accountant / AR \\u0e41\\u0e25\\u0e30\\u0e14\\u0e49\\u0e32\\u0e19\\u0e23\\u0e31\\u0e1a\\u0e40\\u0e07\\u0e34\\u0e19\\u0e17\\u0e31\\u0e49\\u0e07\\u0e2b\\u0e21\\u0e14\",\n\"https://th.jobsdb.com//th\",\n\"Medy Celes Co., Ltd.\",\n\"Bangrak\",\nNaN,\nNaN,\nNaN,\n\"4d ago\"],\n [{\n            'v': 14,\n            'f': \"14\",\n        },\n\"Staff - Health Claim Assessor (Direct Claim)\",\n\"https://th.jobsdb.com//th\",\n\"Krungthai-AXA Life Insurance Public Company Limited\",\n\"Huaykwang\",\n\"Bachelor's degree in Nursing or Medical Technology\",\n\"2 years of working experience in health claim\",\n\"Life insurance business background is preferred\",\n\"5d ago\"],\n [{\n            'v': 15,\n            'f': \"15\",\n        },\n\"HRD CHIEF  (Pathumthani)\",\n\"https://th.jobsdb.com//th\",\n\"BANGKOK COIL CENTER CO., LTD.\",\n\"Pathumthani > Muang\",\nNaN,\nNaN,\nNaN,\n\"6d ago\"],\n [{\n            'v': 16,\n            'f': \"16\",\n        },\n\"Purchasing Overseas/\\u0e40\\u0e08\\u0e49\\u0e32\\u0e2b\\u0e19\\u0e49\\u0e32\\u0e17\\u0e35\\u0e48\\u0e08\\u0e31\\u0e14\\u0e0b\\u0e37\\u0e49\\u0e2d\\u0e15\\u0e48\\u0e32\\u0e07\\u0e1b\\u0e23\\u0e30\\u0e40\\u0e17\\u0e28\",\n\"https://th.jobsdb.com//th\",\n\"Pacific Fish Processing Co., Ltd.\",\n\"Songkhla\",\nNaN,\nNaN,\nNaN,\n\"6d ago\"],\n [{\n            'v': 17,\n            'f': \"17\",\n        },\n\"Product Specialist/Medical Representative - Upper Central area\",\n\"https://th.jobsdb.com//th\",\n\"Apexcela Co., Ltd.\",\n\"Pathumwan\",\n\"Upper central area\",\n\"Hematology\",\n\"Oncology\",\n\"4h ago\"],\n [{\n            'v': 18,\n            'f': \"18\",\n        },\n\"Manager, Business Development (TH)\",\n\"https://th.jobsdb.com//th\",\n\"DOCTOR ANYWHERE (THAILAND) COMPANY LIMITED\",\n\"Bangkok\",\n\"growth\",\n\"good culture\",\n\"promising industry\",\n\"19h ago\"],\n [{\n            'v': 19,\n            'f': \"19\",\n        },\n\"Medical Science Liaison- Oncology\",\n\"https://th.jobsdb.com//th\",\n\"Johnson & Johnson (Thailand) Limited\",\n\"Bangkok\",\n\"Doctor of pharmacy. MSc is a plus.\",\n\"Fluency in English\",\n\"2 years of experience in the relevant sector\",\n\"10h ago\"],\n [{\n            'v': 20,\n            'f': \"20\",\n        },\n\"Sales Executive (South Area) [Job ID:43791]\",\n\"https://th.jobsdb.com//th\",\n\"Reeracoen Recruitment Co.,Ltd.\",\n\"Bangkok Area - Nonthaburi\",\n\"5 years experience in Sales of Medical Equipment\",\n\"Background in Medical Equipment in URO\",\n\"Good understanding of medical equipment business\",\n\"3d ago\"],\n [{\n            'v': 21,\n            'f': \"21\",\n        },\n\"Email Management Officer (Contract)\",\n\"https://th.jobsdb.com//th\",\n\"Vinarco Services (Thailand) Limited\",\n\"Bangrak\",\n\"Excellent interpersonal and communication skills\",\n\"Benefit: Health Insurance\",\n\"Able to work on night shift/working 4 days/week\",\n\"4d ago\"],\n [{\n            'v': 22,\n            'f': \"22\",\n        },\n\"\\u0e1c\\u0e39\\u0e49\\u0e08\\u0e31\\u0e14\\u0e01\\u0e32\\u0e23\\u0e1d\\u0e48\\u0e32\\u0e22\\u0e1a\\u0e31\\u0e0d\\u0e0a\\u0e35\\u0e41\\u0e25\\u0e30\\u0e01\\u0e32\\u0e23\\u0e40\\u0e07\\u0e34\\u0e19\",\n\"https://th.jobsdb.com//th\",\n\"Press Systems Co., Ltd.\",\n\"Samutprakarn > Muang\",\nNaN,\nNaN,\nNaN,\n\"6d ago\"],\n [{\n            'v': 23,\n            'f': \"23\",\n        },\n\"Executive, Business Development\",\n\"https://th.jobsdb.com//th\",\n\"DOCTOR ANYWHERE (THAILAND) COMPANY LIMITED\",\n\"Bangkok\",\n\"Unique experience to be creative and innovative\",\n\"Fast-paced environment\",\n\"Stimulating workspace with a tight-knit team\",\n\"7d ago\"],\n [{\n            'v': 24,\n            'f': \"24\",\n        },\n\"\\u0e40\\u0e08\\u0e49\\u0e32\\u0e2b\\u0e19\\u0e49\\u0e32\\u0e17\\u0e35\\u0e48\\u0e08\\u0e31\\u0e14\\u0e0b\\u0e37\\u0e49\\u0e2d\",\n\"https://th.jobsdb.com//th\",\n\"A.D. Food Co., Ltd.\",\n\"Pathumwan\",\nNaN,\nNaN,\nNaN,\n\"10d ago\"],\n [{\n            'v': 25,\n            'f': \"25\",\n        },\n\"Medical Sales Representatives (Bangkok area)/Pharmaceutical Products\",\n\"https://th.jobsdb.com//th\",\n\"MD Pharmaceuticals (Thailand) Co., Ltd.\",\n\"Bangkok\",\nNaN,\nNaN,\nNaN,\n\"4d ago\"],\n [{\n            'v': 26,\n            'f': \"26\",\n        },\n\"Medical Sales Representative, OTC\",\n\"https://th.jobsdb.com//th\",\n\"Teva\",\n\"Bangkok\",\nNaN,\nNaN,\nNaN,\n\"6d ago\"],\n [{\n            'v': 27,\n            'f': \"27\",\n        },\n\"International Sales Manager\",\n\"https://th.jobsdb.com//th\",\n\"Dr.CBD Co., Ltd.\",\n\"Klongtoey\",\nNaN,\nNaN,\nNaN,\n\"7d ago\"],\n [{\n            'v': 28,\n            'f': \"28\",\n        },\n\"District Sales Manager, OTC\",\n\"https://th.jobsdb.com//th\",\n\"Teva\",\n\"Bangkok\",\nNaN,\nNaN,\nNaN,\n\"7d ago\"],\n [{\n            'v': 29,\n            'f': \"29\",\n        },\n\"EVP/VP Swine Business Operation\",\n\"https://th.jobsdb.com//th\",\n\"INTEQC GROUP (INTEQC Feed Co.,Ltd.)\",\n\"Bangkok Area - Samutsakorn\",\n\"EVP/VP Swine Business Operation\",\n\"Swine Business Operation\",\n\"\\u0e1c\\u0e39\\u0e49\\u0e08\\u0e31\\u0e14\\u0e01\\u0e32\\u0e23\\u0e1f\\u0e32\\u0e23\\u0e4c\\u0e21\\u0e2a\\u0e38\\u0e01\\u0e23\",\n\"1d ago\"],\n [{\n            'v': 30,\n            'f': \"30\",\n        },\n\"Data Scientist\",\n\"https://th.jobsdb.com//th\",\n\"FUJITSU (THAILAND) CO., LTD.\",\n\"Klongtoey\",\n\"Driving data modelling and testing\",\n\"Experience using analytic tools\",\n\"Experience working with large data sets\",\n\"4d ago\"],\n [{\n            'v': 31,\n            'f': \"31\",\n        },\n\"Surveyor (Open to all nationalities)\",\n\"https://th.jobsdb.com//th\",\n\"ARTEMIS (SOUTH EAST ASIA) RECRUITMENT CO., LTD.\",\n\"Bangkok\",\n\"Surveyor for International and Domestic Household\",\n\"Advise potential customer of company\\u2019s service\",\n\"Attend morning sales meetings\",\n\"5d ago\"]],\n        columns: [[\"number\", \"index\"], [\"string\", \"job title\"], [\"string\", \"more info\"], [\"string\", \"job_company\"], [\"string\", \"job_location\"], [\"string\", \"skill requirement 1\"], [\"string\", \"skill requirement 2\"], [\"string\", \"skill requirement 3\"], [\"string\", \"posted time\"]],\n        columnOptions: [{\"width\": \"1px\", \"className\": \"index_column\"}],\n        rowsPerPage: 25,\n        helpUrl: \"https://colab.research.google.com/notebooks/data_table.ipynb\",\n        suppressOutputScrolling: true,\n        minimumWidth: undefined,\n      });\n    ",
            "text/html": [
              "<div>\n",
              "<style scoped>\n",
              "    .dataframe tbody tr th:only-of-type {\n",
              "        vertical-align: middle;\n",
              "    }\n",
              "\n",
              "    .dataframe tbody tr th {\n",
              "        vertical-align: top;\n",
              "    }\n",
              "\n",
              "    .dataframe thead th {\n",
              "        text-align: right;\n",
              "    }\n",
              "</style>\n",
              "<table border=\"1\" class=\"dataframe\">\n",
              "  <thead>\n",
              "    <tr style=\"text-align: right;\">\n",
              "      <th></th>\n",
              "      <th>job title</th>\n",
              "      <th>more info</th>\n",
              "      <th>job_company</th>\n",
              "      <th>job_location</th>\n",
              "      <th>skill requirement 1</th>\n",
              "      <th>skill requirement 2</th>\n",
              "      <th>skill requirement 3</th>\n",
              "      <th>posted time</th>\n",
              "    </tr>\n",
              "  </thead>\n",
              "  <tbody>\n",
              "    <tr>\n",
              "      <th>0</th>\n",
              "      <td>Medical Director...</td>\n",
              "      <td>https://th.jobsd...</td>\n",
              "      <td>Demarest Ltd</td>\n",
              "      <td>Phuket</td>\n",
              "      <td>NaN</td>\n",
              "      <td>NaN</td>\n",
              "      <td>NaN</td>\n",
              "      <td>3d ago</td>\n",
              "    </tr>\n",
              "    <tr>\n",
              "      <th>1</th>\n",
              "      <td>Medical Advisor</td>\n",
              "      <td>https://th.jobsd...</td>\n",
              "      <td>360 Degree Searc...</td>\n",
              "      <td>Bangkok</td>\n",
              "      <td>Senior Medical A...</td>\n",
              "      <td>Leading Internat...</td>\n",
              "      <td>Attractive Remun...</td>\n",
              "      <td>2d ago</td>\n",
              "    </tr>\n",
              "    <tr>\n",
              "      <th>2</th>\n",
              "      <td>Regulatory Affai...</td>\n",
              "      <td>https://th.jobsd...</td>\n",
              "      <td>WINNERGY MEDICAL...</td>\n",
              "      <td>Wangthonglang</td>\n",
              "      <td>มีโอกาสที่จะได้ร...</td>\n",
              "      <td>ส่งเสริมการพัฒนา...</td>\n",
              "      <td>นโยบายทำงาน 5 วั...</td>\n",
              "      <td>10h ago</td>\n",
              "    </tr>\n",
              "    <tr>\n",
              "      <th>3</th>\n",
              "      <td>Staff- Health Cl...</td>\n",
              "      <td>https://th.jobsd...</td>\n",
              "      <td>Krungthai-AXA Li...</td>\n",
              "      <td>Huaykwang</td>\n",
              "      <td>Degree in Nursing</td>\n",
              "      <td>2 years' experie...</td>\n",
              "      <td>Reviews, analyze...</td>\n",
              "      <td>9h ago</td>\n",
              "    </tr>\n",
              "    <tr>\n",
              "      <th>4</th>\n",
              "      <td>แม็คโคร สาขาบางค...</td>\n",
              "      <td>https://th.jobsd...</td>\n",
              "      <td>Siam Makro Publi...</td>\n",
              "      <td>Bangkor-laem</td>\n",
              "      <td>NaN</td>\n",
              "      <td>NaN</td>\n",
              "      <td>NaN</td>\n",
              "      <td>2d ago</td>\n",
              "    </tr>\n",
              "    <tr>\n",
              "      <th>5</th>\n",
              "      <td>พนักงานส่วนซ่อมบ...</td>\n",
              "      <td>https://th.jobsd...</td>\n",
              "      <td>Siam Makro Publi...</td>\n",
              "      <td>Nakornnayok</td>\n",
              "      <td>NaN</td>\n",
              "      <td>NaN</td>\n",
              "      <td>NaN</td>\n",
              "      <td>2d ago</td>\n",
              "    </tr>\n",
              "    <tr>\n",
              "      <th>6</th>\n",
              "      <td>พนักงานส่วนเบเกอ...</td>\n",
              "      <td>https://th.jobsd...</td>\n",
              "      <td>Siam Makro Publi...</td>\n",
              "      <td>Eastern &gt; Others</td>\n",
              "      <td>NaN</td>\n",
              "      <td>NaN</td>\n",
              "      <td>NaN</td>\n",
              "      <td>2d ago</td>\n",
              "    </tr>\n",
              "    <tr>\n",
              "      <th>7</th>\n",
              "      <td>พนักงานขายแผนกซี...</td>\n",
              "      <td>https://th.jobsd...</td>\n",
              "      <td>Terminal Seal an...</td>\n",
              "      <td>Beungkum</td>\n",
              "      <td>NaN</td>\n",
              "      <td>NaN</td>\n",
              "      <td>NaN</td>\n",
              "      <td>6h ago</td>\n",
              "    </tr>\n",
              "    <tr>\n",
              "      <th>8</th>\n",
              "      <td>แม็คโคร สาขาสามเ...</td>\n",
              "      <td>https://th.jobsd...</td>\n",
              "      <td>Siam Makro Publi...</td>\n",
              "      <td>Bangkok</td>\n",
              "      <td>NaN</td>\n",
              "      <td>NaN</td>\n",
              "      <td>NaN</td>\n",
              "      <td>2d ago</td>\n",
              "    </tr>\n",
              "    <tr>\n",
              "      <th>9</th>\n",
              "      <td>แม็คโคร สาขาประจ...</td>\n",
              "      <td>https://th.jobsd...</td>\n",
              "      <td>Siam Makro Publi...</td>\n",
              "      <td>Prachuap Khiri Khan</td>\n",
              "      <td>NaN</td>\n",
              "      <td>NaN</td>\n",
              "      <td>NaN</td>\n",
              "      <td>2d ago</td>\n",
              "    </tr>\n",
              "    <tr>\n",
              "      <th>10</th>\n",
              "      <td>หัวหน้าแผนกเบเกเ...</td>\n",
              "      <td>https://th.jobsd...</td>\n",
              "      <td>Siam Makro Publi...</td>\n",
              "      <td>Chachoengsao</td>\n",
              "      <td>NaN</td>\n",
              "      <td>NaN</td>\n",
              "      <td>NaN</td>\n",
              "      <td>2d ago</td>\n",
              "    </tr>\n",
              "    <tr>\n",
              "      <th>11</th>\n",
              "      <td>Senior Specialis...</td>\n",
              "      <td>https://th.jobsd...</td>\n",
              "      <td>Allianz Ayudhya ...</td>\n",
              "      <td>Pathumwan</td>\n",
              "      <td>3 years’ experie...</td>\n",
              "      <td>Professional nur...</td>\n",
              "      <td>Knowledge of cla...</td>\n",
              "      <td>3d ago</td>\n",
              "    </tr>\n",
              "    <tr>\n",
              "      <th>12</th>\n",
              "      <td>UNHCR Fundraisin...</td>\n",
              "      <td>https://th.jobsd...</td>\n",
              "      <td>UNHC (United Nat...</td>\n",
              "      <td>Bangkok</td>\n",
              "      <td>NaN</td>\n",
              "      <td>NaN</td>\n",
              "      <td>NaN</td>\n",
              "      <td>3d ago</td>\n",
              "    </tr>\n",
              "    <tr>\n",
              "      <th>13</th>\n",
              "      <td>AR Accountant / ...</td>\n",
              "      <td>https://th.jobsd...</td>\n",
              "      <td>Medy Celes Co., ...</td>\n",
              "      <td>Bangrak</td>\n",
              "      <td>NaN</td>\n",
              "      <td>NaN</td>\n",
              "      <td>NaN</td>\n",
              "      <td>4d ago</td>\n",
              "    </tr>\n",
              "    <tr>\n",
              "      <th>14</th>\n",
              "      <td>Staff - Health C...</td>\n",
              "      <td>https://th.jobsd...</td>\n",
              "      <td>Krungthai-AXA Li...</td>\n",
              "      <td>Huaykwang</td>\n",
              "      <td>Bachelor's degre...</td>\n",
              "      <td>2 years of worki...</td>\n",
              "      <td>Life insurance b...</td>\n",
              "      <td>5d ago</td>\n",
              "    </tr>\n",
              "    <tr>\n",
              "      <th>15</th>\n",
              "      <td>HRD CHIEF  (Path...</td>\n",
              "      <td>https://th.jobsd...</td>\n",
              "      <td>BANGKOK COIL CEN...</td>\n",
              "      <td>Pathumthani &gt; Muang</td>\n",
              "      <td>NaN</td>\n",
              "      <td>NaN</td>\n",
              "      <td>NaN</td>\n",
              "      <td>6d ago</td>\n",
              "    </tr>\n",
              "    <tr>\n",
              "      <th>16</th>\n",
              "      <td>Purchasing Overs...</td>\n",
              "      <td>https://th.jobsd...</td>\n",
              "      <td>Pacific Fish Pro...</td>\n",
              "      <td>Songkhla</td>\n",
              "      <td>NaN</td>\n",
              "      <td>NaN</td>\n",
              "      <td>NaN</td>\n",
              "      <td>6d ago</td>\n",
              "    </tr>\n",
              "    <tr>\n",
              "      <th>17</th>\n",
              "      <td>Product Speciali...</td>\n",
              "      <td>https://th.jobsd...</td>\n",
              "      <td>Apexcela Co., Ltd.</td>\n",
              "      <td>Pathumwan</td>\n",
              "      <td>Upper central area</td>\n",
              "      <td>Hematology</td>\n",
              "      <td>Oncology</td>\n",
              "      <td>4h ago</td>\n",
              "    </tr>\n",
              "    <tr>\n",
              "      <th>18</th>\n",
              "      <td>Manager, Busines...</td>\n",
              "      <td>https://th.jobsd...</td>\n",
              "      <td>DOCTOR ANYWHERE ...</td>\n",
              "      <td>Bangkok</td>\n",
              "      <td>growth</td>\n",
              "      <td>good culture</td>\n",
              "      <td>promising industry</td>\n",
              "      <td>19h ago</td>\n",
              "    </tr>\n",
              "    <tr>\n",
              "      <th>19</th>\n",
              "      <td>Medical Science ...</td>\n",
              "      <td>https://th.jobsd...</td>\n",
              "      <td>Johnson &amp; Johnso...</td>\n",
              "      <td>Bangkok</td>\n",
              "      <td>Doctor of pharma...</td>\n",
              "      <td>Fluency in English</td>\n",
              "      <td>2 years of exper...</td>\n",
              "      <td>10h ago</td>\n",
              "    </tr>\n",
              "    <tr>\n",
              "      <th>20</th>\n",
              "      <td>Sales Executive ...</td>\n",
              "      <td>https://th.jobsd...</td>\n",
              "      <td>Reeracoen Recrui...</td>\n",
              "      <td>Bangkok Area - N...</td>\n",
              "      <td>5 years experien...</td>\n",
              "      <td>Background in Me...</td>\n",
              "      <td>Good understandi...</td>\n",
              "      <td>3d ago</td>\n",
              "    </tr>\n",
              "    <tr>\n",
              "      <th>21</th>\n",
              "      <td>Email Management...</td>\n",
              "      <td>https://th.jobsd...</td>\n",
              "      <td>Vinarco Services...</td>\n",
              "      <td>Bangrak</td>\n",
              "      <td>Excellent interp...</td>\n",
              "      <td>Benefit: Health ...</td>\n",
              "      <td>Able to work on ...</td>\n",
              "      <td>4d ago</td>\n",
              "    </tr>\n",
              "    <tr>\n",
              "      <th>22</th>\n",
              "      <td>ผู้จัดการฝ่ายบัญ...</td>\n",
              "      <td>https://th.jobsd...</td>\n",
              "      <td>Press Systems Co...</td>\n",
              "      <td>Samutprakarn &gt; M...</td>\n",
              "      <td>NaN</td>\n",
              "      <td>NaN</td>\n",
              "      <td>NaN</td>\n",
              "      <td>6d ago</td>\n",
              "    </tr>\n",
              "    <tr>\n",
              "      <th>23</th>\n",
              "      <td>Executive, Busin...</td>\n",
              "      <td>https://th.jobsd...</td>\n",
              "      <td>DOCTOR ANYWHERE ...</td>\n",
              "      <td>Bangkok</td>\n",
              "      <td>Unique experienc...</td>\n",
              "      <td>Fast-paced envir...</td>\n",
              "      <td>Stimulating work...</td>\n",
              "      <td>7d ago</td>\n",
              "    </tr>\n",
              "    <tr>\n",
              "      <th>24</th>\n",
              "      <td>เจ้าหน้าที่จัดซื้อ</td>\n",
              "      <td>https://th.jobsd...</td>\n",
              "      <td>A.D. Food Co., Ltd.</td>\n",
              "      <td>Pathumwan</td>\n",
              "      <td>NaN</td>\n",
              "      <td>NaN</td>\n",
              "      <td>NaN</td>\n",
              "      <td>10d ago</td>\n",
              "    </tr>\n",
              "    <tr>\n",
              "      <th>25</th>\n",
              "      <td>Medical Sales Re...</td>\n",
              "      <td>https://th.jobsd...</td>\n",
              "      <td>MD Pharmaceutica...</td>\n",
              "      <td>Bangkok</td>\n",
              "      <td>NaN</td>\n",
              "      <td>NaN</td>\n",
              "      <td>NaN</td>\n",
              "      <td>4d ago</td>\n",
              "    </tr>\n",
              "    <tr>\n",
              "      <th>26</th>\n",
              "      <td>Medical Sales Re...</td>\n",
              "      <td>https://th.jobsd...</td>\n",
              "      <td>Teva</td>\n",
              "      <td>Bangkok</td>\n",
              "      <td>NaN</td>\n",
              "      <td>NaN</td>\n",
              "      <td>NaN</td>\n",
              "      <td>6d ago</td>\n",
              "    </tr>\n",
              "    <tr>\n",
              "      <th>27</th>\n",
              "      <td>International Sa...</td>\n",
              "      <td>https://th.jobsd...</td>\n",
              "      <td>Dr.CBD Co., Ltd.</td>\n",
              "      <td>Klongtoey</td>\n",
              "      <td>NaN</td>\n",
              "      <td>NaN</td>\n",
              "      <td>NaN</td>\n",
              "      <td>7d ago</td>\n",
              "    </tr>\n",
              "    <tr>\n",
              "      <th>28</th>\n",
              "      <td>District Sales M...</td>\n",
              "      <td>https://th.jobsd...</td>\n",
              "      <td>Teva</td>\n",
              "      <td>Bangkok</td>\n",
              "      <td>NaN</td>\n",
              "      <td>NaN</td>\n",
              "      <td>NaN</td>\n",
              "      <td>7d ago</td>\n",
              "    </tr>\n",
              "    <tr>\n",
              "      <th>29</th>\n",
              "      <td>EVP/VP Swine Bus...</td>\n",
              "      <td>https://th.jobsd...</td>\n",
              "      <td>INTEQC GROUP (IN...</td>\n",
              "      <td>Bangkok Area - S...</td>\n",
              "      <td>EVP/VP Swine Bus...</td>\n",
              "      <td>Swine Business O...</td>\n",
              "      <td>ผู้จัดการฟาร์มสุกร</td>\n",
              "      <td>1d ago</td>\n",
              "    </tr>\n",
              "    <tr>\n",
              "      <th>30</th>\n",
              "      <td>Data Scientist</td>\n",
              "      <td>https://th.jobsd...</td>\n",
              "      <td>FUJITSU (THAILAN...</td>\n",
              "      <td>Klongtoey</td>\n",
              "      <td>Driving data mod...</td>\n",
              "      <td>Experience using...</td>\n",
              "      <td>Experience worki...</td>\n",
              "      <td>4d ago</td>\n",
              "    </tr>\n",
              "    <tr>\n",
              "      <th>31</th>\n",
              "      <td>Surveyor (Open t...</td>\n",
              "      <td>https://th.jobsd...</td>\n",
              "      <td>ARTEMIS (SOUTH E...</td>\n",
              "      <td>Bangkok</td>\n",
              "      <td>Surveyor for Int...</td>\n",
              "      <td>Advise potential...</td>\n",
              "      <td>Attend morning s...</td>\n",
              "      <td>5d ago</td>\n",
              "    </tr>\n",
              "  </tbody>\n",
              "</table>\n",
              "</div>"
            ],
            "text/plain": [
              "              job title            more info  ...  skill requirement 3 posted time\n",
              "0   Medical Director...  https://th.jobsd...  ...                  NaN      3d ago\n",
              "1       Medical Advisor  https://th.jobsd...  ...  Attractive Remun...      2d ago\n",
              "2   Regulatory Affai...  https://th.jobsd...  ...  นโยบายทำงาน 5 วั...     10h ago\n",
              "3   Staff- Health Cl...  https://th.jobsd...  ...  Reviews, analyze...      9h ago\n",
              "4   แม็คโคร สาขาบางค...  https://th.jobsd...  ...                  NaN      2d ago\n",
              "5   พนักงานส่วนซ่อมบ...  https://th.jobsd...  ...                  NaN      2d ago\n",
              "6   พนักงานส่วนเบเกอ...  https://th.jobsd...  ...                  NaN      2d ago\n",
              "7   พนักงานขายแผนกซี...  https://th.jobsd...  ...                  NaN      6h ago\n",
              "8   แม็คโคร สาขาสามเ...  https://th.jobsd...  ...                  NaN      2d ago\n",
              "9   แม็คโคร สาขาประจ...  https://th.jobsd...  ...                  NaN      2d ago\n",
              "10  หัวหน้าแผนกเบเกเ...  https://th.jobsd...  ...                  NaN      2d ago\n",
              "11  Senior Specialis...  https://th.jobsd...  ...  Knowledge of cla...      3d ago\n",
              "12  UNHCR Fundraisin...  https://th.jobsd...  ...                  NaN      3d ago\n",
              "13  AR Accountant / ...  https://th.jobsd...  ...                  NaN      4d ago\n",
              "14  Staff - Health C...  https://th.jobsd...  ...  Life insurance b...      5d ago\n",
              "15  HRD CHIEF  (Path...  https://th.jobsd...  ...                  NaN      6d ago\n",
              "16  Purchasing Overs...  https://th.jobsd...  ...                  NaN      6d ago\n",
              "17  Product Speciali...  https://th.jobsd...  ...             Oncology      4h ago\n",
              "18  Manager, Busines...  https://th.jobsd...  ...   promising industry     19h ago\n",
              "19  Medical Science ...  https://th.jobsd...  ...  2 years of exper...     10h ago\n",
              "20  Sales Executive ...  https://th.jobsd...  ...  Good understandi...      3d ago\n",
              "21  Email Management...  https://th.jobsd...  ...  Able to work on ...      4d ago\n",
              "22  ผู้จัดการฝ่ายบัญ...  https://th.jobsd...  ...                  NaN      6d ago\n",
              "23  Executive, Busin...  https://th.jobsd...  ...  Stimulating work...      7d ago\n",
              "24   เจ้าหน้าที่จัดซื้อ  https://th.jobsd...  ...                  NaN     10d ago\n",
              "25  Medical Sales Re...  https://th.jobsd...  ...                  NaN      4d ago\n",
              "26  Medical Sales Re...  https://th.jobsd...  ...                  NaN      6d ago\n",
              "27  International Sa...  https://th.jobsd...  ...                  NaN      7d ago\n",
              "28  District Sales M...  https://th.jobsd...  ...                  NaN      7d ago\n",
              "29  EVP/VP Swine Bus...  https://th.jobsd...  ...   ผู้จัดการฟาร์มสุกร      1d ago\n",
              "30       Data Scientist  https://th.jobsd...  ...  Experience worki...      4d ago\n",
              "31  Surveyor (Open t...  https://th.jobsd...  ...  Attend morning s...      5d ago\n",
              "\n",
              "[32 rows x 8 columns]"
            ]
          },
          "metadata": {},
          "execution_count": 19
        }
      ]
    },
    {
      "cell_type": "markdown",
      "metadata": {
        "id": "Iz26Y6bnaPgD"
      },
      "source": [
        "\n",
        "\n",
        "---\n",
        "\n"
      ]
    },
    {
      "cell_type": "code",
      "metadata": {
        "id": "6ulnrlR7O8-2",
        "colab": {
          "base_uri": "https://localhost:8080/",
          "height": 53
        },
        "outputId": "1eab887b-d91b-4769-d534-80ee14c5391c"
      },
      "source": [
        "#@title Future project (Get salary) {display-mode: \"form\"}\n",
        "\n",
        "# This code will be hidden when the notebook is loaded.\n",
        "\"\"\"\n",
        "  #Job type zone\n",
        "  url_more_info = f'https://th.jobsdb.com/{job_description}'\n",
        "  html_text_more_info = requests.get(url_more_info).text\n",
        "  soup_more_info = BeautifulSoup(html_text_more_info,'lxml')\n",
        "  \n",
        "  jobs = soup.find('span',class_=\"sx2jih0 zcydq82q _18qlyvc0 _18qlyvcv _18qlyvc1 _1d0g9qk4 _18qlyvc9\")\n",
        "\"\"\""
      ],
      "execution_count": 20,
      "outputs": [
        {
          "output_type": "execute_result",
          "data": {
            "application/vnd.google.colaboratory.intrinsic+json": {
              "type": "string"
            },
            "text/plain": [
              "'\\n  #Job type zone\\n  url_more_info = f\\'https://th.jobsdb.com/{job_description}\\'\\n  html_text_more_info = requests.get(url_more_info).text\\n  soup_more_info = BeautifulSoup(html_text_more_info,\\'lxml\\')\\n  \\n  jobs = soup.find(\\'span\\',class_=\"sx2jih0 zcydq82q _18qlyvc0 _18qlyvcv _18qlyvc1 _1d0g9qk4 _18qlyvc9\")\\n'"
            ]
          },
          "metadata": {},
          "execution_count": 20
        }
      ]
    }
  ]
}