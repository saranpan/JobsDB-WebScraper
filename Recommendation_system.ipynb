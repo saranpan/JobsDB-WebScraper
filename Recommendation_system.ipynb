{
  "nbformat": 4,
  "nbformat_minor": 0,
  "metadata": {
    "colab": {
      "name": "#2 Recommendation system  ",
      "provenance": [],
      "include_colab_link": true
    },
    "kernelspec": {
      "name": "python3",
      "display_name": "Python 3"
    },
    "language_info": {
      "name": "python"
    }
  },
  "cells": [
    {
      "cell_type": "markdown",
      "metadata": {
        "id": "view-in-github",
        "colab_type": "text"
      },
      "source": [
        "<a href=\"https://colab.research.google.com/github/wallik2/JobsDB-WebScraper/blob/main/Recommendation_system.ipynb\" target=\"_parent\"><img src=\"https://colab.research.google.com/assets/colab-badge.svg\" alt=\"Open In Colab\"/></a>"
      ]
    },
    {
      "cell_type": "markdown",
      "metadata": {
        "id": "eJrjsSCbSimb"
      },
      "source": [
        "# ⛺"
      ]
    },
    {
      "cell_type": "code",
      "metadata": {
        "colab": {
          "base_uri": "https://localhost:8080/"
        },
        "id": "E8LHObAYpv5p",
        "outputId": "25e7d3e0-c1ef-4ddf-fd12-8f16f4c8aa35"
      },
      "source": [
        "from google.colab import drive\n",
        "drive.mount('/content/drive')"
      ],
      "execution_count": null,
      "outputs": [
        {
          "output_type": "stream",
          "name": "stdout",
          "text": [
            "Mounted at /content/drive\n"
          ]
        }
      ]
    },
    {
      "cell_type": "code",
      "metadata": {
        "id": "wi0ZZn7QqgB5"
      },
      "source": [
        "import pandas as pd, numpy as np\n",
        "import re"
      ],
      "execution_count": null,
      "outputs": []
    },
    {
      "cell_type": "code",
      "metadata": {
        "id": "TiJsz7acSe2i"
      },
      "source": [
        "def flatten(t):\n",
        "    return [item for sublist in t for item in sublist]"
      ],
      "execution_count": null,
      "outputs": []
    },
    {
      "cell_type": "code",
      "metadata": {
        "id": "gFrH7hi-ib9R"
      },
      "source": [
        "Job_keyword = 'data'"
      ],
      "execution_count": null,
      "outputs": []
    },
    {
      "cell_type": "code",
      "metadata": {
        "id": "G4e7uhuBqcrm"
      },
      "source": [
        "# Fah directory\n",
        "try:\n",
        "  df = pd.read_csv(f'/content/drive/MyDrive/keyword: {Job_keyword}.csv')\n",
        "\n",
        "# Run directory\n",
        "except:\n",
        "  df = pd.read_csv(f'/content/drive/MyDrive/Jobsdb/keyword: {Job_keyword}.csv',index_col=0)"
      ],
      "execution_count": null,
      "outputs": []
    },
    {
      "cell_type": "code",
      "metadata": {
        "id": "uMzG1a8k-M0E"
      },
      "source": [
        "# merge\n",
        "\n",
        "df['skill requirement'] = df['skill requirement 1'] + df['skill requirement 2'] + df['skill requirement 3']"
      ],
      "execution_count": null,
      "outputs": []
    },
    {
      "cell_type": "code",
      "metadata": {
        "id": "eTygD1rGB3Jv",
        "colab": {
          "base_uri": "https://localhost:8080/",
          "height": 206
        },
        "outputId": "3282a401-ef9f-4b3c-a220-316c8831defd"
      },
      "source": [
        "df.head()"
      ],
      "execution_count": null,
      "outputs": [
        {
          "output_type": "execute_result",
          "data": {
            "text/html": [
              "<div>\n",
              "<style scoped>\n",
              "    .dataframe tbody tr th:only-of-type {\n",
              "        vertical-align: middle;\n",
              "    }\n",
              "\n",
              "    .dataframe tbody tr th {\n",
              "        vertical-align: top;\n",
              "    }\n",
              "\n",
              "    .dataframe thead th {\n",
              "        text-align: right;\n",
              "    }\n",
              "</style>\n",
              "<table border=\"1\" class=\"dataframe\">\n",
              "  <thead>\n",
              "    <tr style=\"text-align: right;\">\n",
              "      <th></th>\n",
              "      <th>job title</th>\n",
              "      <th>more info</th>\n",
              "      <th>job_company</th>\n",
              "      <th>job_location</th>\n",
              "      <th>skill requirement 1</th>\n",
              "      <th>skill requirement 2</th>\n",
              "      <th>skill requirement 3</th>\n",
              "      <th>posted time</th>\n",
              "      <th>skill requirement</th>\n",
              "    </tr>\n",
              "  </thead>\n",
              "  <tbody>\n",
              "    <tr>\n",
              "      <th>0</th>\n",
              "      <td>Data Analyst</td>\n",
              "      <td>https://th.jobsdb.com//th/en/job/data-analyst-...</td>\n",
              "      <td>Siam Piwat Group</td>\n",
              "      <td>Pathumwan</td>\n",
              "      <td>Deliver in-depth analysis</td>\n",
              "      <td>Performance tracking</td>\n",
              "      <td>End-to-end data analytics lifecycle</td>\n",
              "      <td>14h ago</td>\n",
              "      <td>Deliver in-depth analysisPerformance trackingE...</td>\n",
              "    </tr>\n",
              "    <tr>\n",
              "      <th>1</th>\n",
              "      <td>Fresh Graduate, Data Scientist</td>\n",
              "      <td>https://th.jobsdb.com//th/en/job/fresh-graduat...</td>\n",
              "      <td>Siam Commercial Bank Public Co., Ltd. (SCB)</td>\n",
              "      <td>Jatuchak</td>\n",
              "      <td>statistical programming  (e.g., Python, R,pandas)</td>\n",
              "      <td>database software (e.g., SQL, PySpark)</td>\n",
              "      <td>hypothesis testing, regression, machine learning</td>\n",
              "      <td>18h ago</td>\n",
              "      <td>statistical programming  (e.g., Python, R,pand...</td>\n",
              "    </tr>\n",
              "    <tr>\n",
              "      <th>2</th>\n",
              "      <td>Data Analyst</td>\n",
              "      <td>https://th.jobsdb.com//th/en/job/data-analyst-...</td>\n",
              "      <td>Ngernturbo Co., Ltd./ บริษัท เงินเทอร์โบ จำกัด</td>\n",
              "      <td>Prakket</td>\n",
              "      <td>Challenging work.</td>\n",
              "      <td>Competitive package.</td>\n",
              "      <td>Vibrant culture.</td>\n",
              "      <td>14h ago</td>\n",
              "      <td>Challenging work.Competitive package.Vibrant c...</td>\n",
              "    </tr>\n",
              "    <tr>\n",
              "      <th>3</th>\n",
              "      <td>Data Analyst</td>\n",
              "      <td>https://th.jobsdb.com//th/en/job/data-analyst-...</td>\n",
              "      <td>Tri Petch IT Solutions Co., Ltd.</td>\n",
              "      <td>Jatuchak</td>\n",
              "      <td>5 Day-Work / Bonus twice a year / MRT Phahonyo...</td>\n",
              "      <td>Health Insurance/ Flextime/ Excellent Benefits...</td>\n",
              "      <td>Training / Gym / BTS Phahonyothin 24 /Contribu...</td>\n",
              "      <td>14h ago</td>\n",
              "      <td>5 Day-Work / Bonus twice a year / MRT Phahonyo...</td>\n",
              "    </tr>\n",
              "    <tr>\n",
              "      <th>4</th>\n",
              "      <td>Data Analytics Officer</td>\n",
              "      <td>https://th.jobsdb.com//th/en/job/data-analytic...</td>\n",
              "      <td>Predictive Co., Ltd.</td>\n",
              "      <td>Wattana</td>\n",
              "      <td>NaN</td>\n",
              "      <td>NaN</td>\n",
              "      <td>NaN</td>\n",
              "      <td>18h ago</td>\n",
              "      <td>NaN</td>\n",
              "    </tr>\n",
              "  </tbody>\n",
              "</table>\n",
              "</div>"
            ],
            "text/plain": [
              "                        job title  ...                                  skill requirement\n",
              "0                    Data Analyst  ...  Deliver in-depth analysisPerformance trackingE...\n",
              "1  Fresh Graduate, Data Scientist  ...  statistical programming  (e.g., Python, R,pand...\n",
              "2                    Data Analyst  ...  Challenging work.Competitive package.Vibrant c...\n",
              "3                    Data Analyst  ...  5 Day-Work / Bonus twice a year / MRT Phahonyo...\n",
              "4          Data Analytics Officer  ...                                                NaN\n",
              "\n",
              "[5 rows x 9 columns]"
            ]
          },
          "metadata": {},
          "execution_count": 8
        }
      ]
    },
    {
      "cell_type": "code",
      "metadata": {
        "id": "ZvfrDAAkDPRj"
      },
      "source": [
        "# We don't use them anymore\n",
        "df.drop(columns= ['skill requirement 1', 'skill requirement 2','skill requirement 3'],inplace=True)\n",
        "\n",
        "\n",
        "# Drop N/A \n",
        "df.dropna(inplace=True)"
      ],
      "execution_count": null,
      "outputs": []
    },
    {
      "cell_type": "code",
      "metadata": {
        "id": "o1jzBnVe5nPj"
      },
      "source": [
        "# all lower case\n",
        "\n",
        "df['skill requirement'] = df['skill requirement'].str.lower()"
      ],
      "execution_count": null,
      "outputs": []
    },
    {
      "cell_type": "code",
      "metadata": {
        "id": "XiPN296A6CEn"
      },
      "source": [
        "df.reset_index(drop=True, inplace=True)"
      ],
      "execution_count": null,
      "outputs": []
    },
    {
      "cell_type": "markdown",
      "metadata": {
        "id": "6K2Ztcoa_DXl"
      },
      "source": [
        "\n",
        "\n",
        "---\n",
        "\n"
      ]
    },
    {
      "cell_type": "markdown",
      "metadata": {
        "id": "qAIsyRgA_EQT"
      },
      "source": [
        "# ⛄"
      ]
    },
    {
      "cell_type": "markdown",
      "metadata": {
        "id": "gI_9U10pC3_j"
      },
      "source": [
        "Stop words like A, can, be, I are mostly noise "
      ]
    },
    {
      "cell_type": "markdown",
      "metadata": {
        "id": "CSE8fKiZClhG"
      },
      "source": [
        "![alt text](https://media.geeksforgeeks.org/wp-content/cdn-uploads/Stop-word-removal-using-NLTK.png)"
      ]
    },
    {
      "cell_type": "code",
      "metadata": {
        "id": "jqvzDKM16zPN",
        "colab": {
          "base_uri": "https://localhost:8080/"
        },
        "outputId": "66649856-0851-482a-cdf2-4f42a9887e04"
      },
      "source": [
        "import nltk\n",
        "\n",
        "#removing stopwords \n",
        "from nltk.corpus import stopwords\n",
        "\n",
        "#normalize word to base form\n",
        "from nltk.stem import WordNetLemmatizer\n",
        "#Text vectorization\n",
        "from sklearn.feature_extraction.text import TfidfVectorizer\n",
        "\n",
        "# Similarity between text\n",
        "from sklearn.metrics.pairwise import cosine_similarity\n",
        "\n",
        "nltk.download('stopwords')\n",
        "nltk.download('wordnet')"
      ],
      "execution_count": null,
      "outputs": [
        {
          "output_type": "stream",
          "name": "stdout",
          "text": [
            "[nltk_data] Downloading package stopwords to /root/nltk_data...\n",
            "[nltk_data]   Unzipping corpora/stopwords.zip.\n",
            "[nltk_data] Downloading package wordnet to /root/nltk_data...\n",
            "[nltk_data]   Unzipping corpora/wordnet.zip.\n"
          ]
        },
        {
          "output_type": "execute_result",
          "data": {
            "text/plain": [
              "True"
            ]
          },
          "metadata": {},
          "execution_count": 12
        }
      ]
    },
    {
      "cell_type": "code",
      "metadata": {
        "id": "X0I9Ic696Ef-",
        "colab": {
          "base_uri": "https://localhost:8080/"
        },
        "outputId": "04c450aa-e4e3-4026-d6b5-817ba2330a9b"
      },
      "source": [
        "skill_req = df['skill requirement']\n",
        "\n",
        "#removing stopwords\n",
        "\n",
        "stop = stopwords.words('english')\n",
        "only_text = skill_req.apply(lambda x: ' '.join([word for word in x.split() if word not in (stop)]))\n",
        "only_text.head()"
      ],
      "execution_count": null,
      "outputs": [
        {
          "output_type": "execute_result",
          "data": {
            "text/plain": [
              "0    deliver in-depth analysisperformance trackinge...\n",
              "1    statistical programming (e.g., python, r,panda...\n",
              "2    challenging work.competitive package.vibrant c...\n",
              "3    5 day-work / bonus twice year / mrt phahonyoth...\n",
              "4    data analystcrm platforms, campaign management...\n",
              "Name: skill requirement, dtype: object"
            ]
          },
          "metadata": {},
          "execution_count": 13
        }
      ]
    },
    {
      "cell_type": "code",
      "metadata": {
        "id": "3MZcV80u65XR",
        "colab": {
          "base_uri": "https://localhost:8080/"
        },
        "outputId": "368227ad-415e-4fac-aff8-9feecf5b345b"
      },
      "source": [
        "only_text = only_text.apply(lambda x : filter(None,x.split(\" \")))\n",
        "print(only_text.head())"
      ],
      "execution_count": null,
      "outputs": [
        {
          "output_type": "stream",
          "name": "stdout",
          "text": [
            "0    <filter object at 0x7fc658453990>\n",
            "1    <filter object at 0x7fc658453cd0>\n",
            "2    <filter object at 0x7fc658453e10>\n",
            "3    <filter object at 0x7fc658457290>\n",
            "4    <filter object at 0x7fc658457510>\n",
            "Name: skill requirement, dtype: object\n"
          ]
        }
      ]
    },
    {
      "cell_type": "code",
      "metadata": {
        "id": "leoZ_mc37AeV",
        "colab": {
          "base_uri": "https://localhost:8080/"
        },
        "outputId": "f5a6be99-e8ed-4432-e78c-5b9063510472"
      },
      "source": [
        "# (eaten, eating, ate ) -> Eat\n",
        "lemmatizer = WordNetLemmatizer();lemmatizer"
      ],
      "execution_count": null,
      "outputs": [
        {
          "output_type": "execute_result",
          "data": {
            "text/plain": [
              "<WordNetLemmatizer>"
            ]
          },
          "metadata": {},
          "execution_count": 15
        }
      ]
    },
    {
      "cell_type": "code",
      "metadata": {
        "id": "TWM7_7pS8RPW"
      },
      "source": [
        "def lemmatize_words(text):\n",
        "    return \" \".join([lemmatizer.lemmatize(word) for word in text.split()])"
      ],
      "execution_count": null,
      "outputs": []
    },
    {
      "cell_type": "code",
      "metadata": {
        "id": "N1lasuej76JH",
        "colab": {
          "base_uri": "https://localhost:8080/"
        },
        "outputId": "f4cf96b3-5002-4c34-9cd6-0f59e91a968f"
      },
      "source": [
        "\n",
        "only_text = only_text.apply(lambda x : [lemmatize_words(y) for y in x])\n",
        "print(only_text.head())"
      ],
      "execution_count": null,
      "outputs": [
        {
          "output_type": "stream",
          "name": "stdout",
          "text": [
            "0    [deliver, in-depth, analysisperformance, track...\n",
            "1    [statistical, programming, (e.g.,, python,, r,...\n",
            "2    [challenging, work.competitive, package.vibran...\n",
            "3    [5, day-work, /, bonus, twice, year, /, mrt, p...\n",
            "4    [data, analystcrm, platforms,, campaign, manag...\n",
            "Name: skill requirement, dtype: object\n"
          ]
        }
      ]
    },
    {
      "cell_type": "code",
      "metadata": {
        "id": "nTFxdM-j8Vbz",
        "colab": {
          "base_uri": "https://localhost:8080/"
        },
        "outputId": "f9ba7edc-b15b-47df-dddc-f3f355aa8508"
      },
      "source": [
        "only_text = only_text.apply(lambda x : \" \".join(x))\n",
        "print(only_text.head())"
      ],
      "execution_count": null,
      "outputs": [
        {
          "output_type": "stream",
          "name": "stdout",
          "text": [
            "0    deliver in-depth analysisperformance trackinge...\n",
            "1    statistical programming (e.g., python, r,panda...\n",
            "2    challenging work.competitive package.vibrant c...\n",
            "3    5 day-work / bonus twice year / mrt phahonyoth...\n",
            "4    data analystcrm platforms, campaign management...\n",
            "Name: skill requirement, dtype: object\n"
          ]
        }
      ]
    },
    {
      "cell_type": "markdown",
      "metadata": {
        "id": "ABS550cPFOM8"
      },
      "source": [
        "\n",
        "\n",
        "---\n",
        "\n"
      ]
    },
    {
      "cell_type": "markdown",
      "metadata": {
        "id": "fFbeYVQbFOvv"
      },
      "source": [
        "# ✌"
      ]
    },
    {
      "cell_type": "code",
      "metadata": {
        "id": "HsseMhXQ9tWs"
      },
      "source": [
        "# ID\n",
        "Applicant_id =  15#@param {type:\"integer\"}\n",
        "\n",
        "# QUALITY (Your skill)\n",
        "Quality = \"English Critical thinking and problem solving. Teamwork and collaboration. Professionalism and strong work ethic. Oral and written communications skills. Leadership.\" #@param {type:\"string\"}"
      ],
      "execution_count": null,
      "outputs": []
    },
    {
      "cell_type": "code",
      "metadata": {
        "id": "J8J_peNNEi5i"
      },
      "source": [
        "data ={'Applicant_id':[Applicant_id],\n",
        "       'Quality':[Quality] }\n",
        "\n",
        "       \n",
        "Applicant = pd.DataFrame(data)"
      ],
      "execution_count": null,
      "outputs": []
    },
    {
      "cell_type": "code",
      "metadata": {
        "id": "AwM0NiiIIjuL"
      },
      "source": [
        "Quality = [Quality]"
      ],
      "execution_count": null,
      "outputs": []
    },
    {
      "cell_type": "code",
      "metadata": {
        "id": "wIPVBtLfFlA_"
      },
      "source": [
        "def vecIt(corpus):\n",
        "  tfidf_vectorizer = TfidfVectorizer()\n",
        "\n",
        "  #fitting and transforming the vector\n",
        "  tfidf_jobid = tfidf_vectorizer.fit_transform((corpus)) \n",
        "\n",
        "  #creating tf-idf of user query and computing cosine similarity of user with job\n",
        "  user_tfidf = tfidf_vectorizer.transform(Quality)\n",
        "  output = list(map(lambda x: cosine_similarity(user_tfidf, x),tfidf_jobid))\n",
        "\n",
        "  # First best 50 (highest similarity score)\n",
        "  winners = sorted(range(len(output)), key=lambda i: output[i], reverse=True)[:50]\n",
        "  \n",
        "  score = output\n",
        "  \n",
        "  return winners, score"
      ],
      "execution_count": null,
      "outputs": []
    },
    {
      "cell_type": "code",
      "metadata": {
        "id": "b8XYnseUGOKr"
      },
      "source": [
        "winner = vecIt(only_text)[0]\n",
        "score = vecIt(only_text)[1]\n",
        "\n",
        "# Easier to interpret\n",
        "round_score = np.round(score,decimals=5)"
      ],
      "execution_count": null,
      "outputs": []
    },
    {
      "cell_type": "code",
      "metadata": {
        "id": "dmT0g9iDGxNs"
      },
      "source": [
        "recommendation = pd.DataFrame(columns = ['ApplicantID', 'Job'])"
      ],
      "execution_count": null,
      "outputs": []
    },
    {
      "cell_type": "code",
      "metadata": {
        "id": "L9ObNMkLOzsK"
      },
      "source": [
        "def flatten(t):\n",
        "    return [item for sublist in t for item in sublist]"
      ],
      "execution_count": null,
      "outputs": []
    },
    {
      "cell_type": "markdown",
      "metadata": {
        "id": "zDFuK02oSP0F"
      },
      "source": [
        "Range of Similarity score : [0,1]\n"
      ]
    },
    {
      "cell_type": "code",
      "metadata": {
        "id": "3sY5lg58GhHo",
        "colab": {
          "base_uri": "https://localhost:8080/"
        },
        "outputId": "d6339391-5111-486e-a87a-df35f47c07c1"
      },
      "source": [
        "for index, k in enumerate(winner,start=1):\n",
        "\n",
        "  if index == 1: print(f'🥇 Rank {index}.' ,df.loc[k,'job title'],'\\n')\n",
        "  elif index == 2: print(f'🥈 Rank {index}.' ,df.loc[k,'job title'],'\\n')\n",
        "  elif index == 3: print(f'🥉 Rank {index}.' ,df.loc[k,'job title'],'\\n')\n",
        "  else: print(f'Rank {index}.' ,df.loc[k,'job title'],'\\n')\n",
        "\n",
        "  print(f'Similarity score :',flatten(round_score[k])[0]*100,'%')\n",
        "  print(f'Company:' ,df.loc[k,'job_company'])\n",
        "  print(f'More information :',df.loc[k,'more info'])\n",
        "\n",
        "\n",
        "  print(\"\\n\"*2,\"#\"*120,\"\\n\"*2)\n",
        "\n",
        "     #print(f'The job is {df.loc[k,'job title']} The company is {df['job_company'][k]} \\n{df['more info'][k]} The similar score is ,{output2 [k]}')"
      ],
      "execution_count": null,
      "outputs": [
        {
          "output_type": "stream",
          "name": "stdout",
          "text": [
            "🥇 Rank 1. Solution Architect Expert \n",
            "\n",
            "Similarity score : 25.517 %\n",
            "Company: True Corporation Public Company Limited\n",
            "More information : https://th.jobsdb.com//th/en/job/solution-architect-expert-300003002431778?token=0~aa298e36-245b-490d-86c8-95e7eb6262a5&sectionRank=2260&jobId=jobsdb-th-job-300003002431778\n",
            "\n",
            "\n",
            " ######################################################################################################################## \n",
            "\n",
            "\n",
            "🥈 Rank 2. Manager – Strategy & Business Design (Monitor Deloitte) – Financial Services - TH \n",
            "\n",
            "Similarity score : 24.634 %\n",
            "Company: Deloitte Consulting Ltd.\n",
            "More information : https://th.jobsdb.com//th/en/job/manager-strategy-business-design-monitor-deloitte-financial-services-th-300003002439967?token=0~31d9af01-f0ab-46ce-a8ae-8ce973beed21&sectionRank=4134&jobId=jobsdb-th-job-300003002439967\n",
            "\n",
            "\n",
            " ######################################################################################################################## \n",
            "\n",
            "\n",
            "🥉 Rank 3. Service Engineer (PLC Trainer) / Upto 30K/ Bangna, Bangkok \n",
            "\n",
            "Similarity score : 23.418 %\n",
            "Company: PERSOLKELLY HR Services Recruitment (Thailand) Co., Ltd.\n",
            "More information : https://th.jobsdb.com//th/en/job/service-engineer-plc-trainer-upto-30k-bangna-bangkok-300003002448758?token=0~23824e06-6c5f-405a-bf92-7de5028ee07a&sectionRank=3823&jobId=jobsdb-th-job-300003002448758\n",
            "\n",
            "\n",
            " ######################################################################################################################## \n",
            "\n",
            "\n",
            "Rank 4. Sales manager (New equipment for packaging, rigid plastic industry) \n",
            "\n",
            "Similarity score : 22.652 %\n",
            "Company: TALENTVIS RECRUITMENT (THAILAND) CO., LTD.\n",
            "More information : https://th.jobsdb.com//th/en/job/sales-manager-new-equipment-for-packaging-rigid-plastic-industry-300003002436316?token=0~014472c4-4bd6-4593-bb4c-956e4e9bf39d&sectionRank=4995&jobId=jobsdb-th-job-300003002436316\n",
            "\n",
            "\n",
            " ######################################################################################################################## \n",
            "\n",
            "\n",
            "Rank 5. Engineer – Technical \n",
            "\n",
            "Similarity score : 22.485 %\n",
            "Company: Covestro (Thailand) Co., Ltd.\n",
            "More information : https://th.jobsdb.com//th/en/job/engineer-technical-300003002449489?token=0~1ea57b46-1116-4420-8a75-5b71ac0605d4&sectionRank=2872&jobId=jobsdb-th-job-300003002449489\n",
            "\n",
            "\n",
            " ######################################################################################################################## \n",
            "\n",
            "\n",
            "Rank 6. Software Analyst (SharePoint Web Application) \n",
            "\n",
            "Similarity score : 22.17 %\n",
            "Company: PTT Digital Solutions Company Limited\n",
            "More information : https://th.jobsdb.com//th/en/job/software-analyst-sharepoint-web-application-300003002437473?token=0~281311e7-e5ec-4a27-b502-7efdabeec960&sectionRank=2244&jobId=jobsdb-th-job-300003002437473\n",
            "\n",
            "\n",
            " ######################################################################################################################## \n",
            "\n",
            "\n",
            "Rank 7. Python Developer \n",
            "\n",
            "Similarity score : 21.376 %\n",
            "Company: Oozou\n",
            "More information : https://th.jobsdb.com//th/en/job/python-developer-300003002443730?token=0~9c8e6165-fea6-49bc-aab8-86bc1eeadb15&sectionRank=774&jobId=jobsdb-th-job-300003002443730\n",
            "\n",
            "\n",
            " ######################################################################################################################## \n",
            "\n",
            "\n",
            "Rank 8. Blockchain Engineer \n",
            "\n",
            "Similarity score : 21.235 %\n",
            "Company: Market Anyware Company Limited\n",
            "More information : https://th.jobsdb.com//th/en/job/blockchain-engineer-300003002438415?token=0~a6b15101-dc4a-4a7a-8a63-1bff56502360&sectionRank=2074&jobId=jobsdb-th-job-300003002438415\n",
            "\n",
            "\n",
            " ######################################################################################################################## \n",
            "\n",
            "\n",
            "Rank 9. Performance Marketing Supervisor/ Executive (Ecommerce Platform) \n",
            "\n",
            "Similarity score : 20.839 %\n",
            "Company: Jet Commerce\n",
            "More information : https://th.jobsdb.com//th/en/job/performance-marketing-supervisor-executive-ecommerce-platform-300003002435935?token=0~04c5ad7b-614d-4142-8335-0117b6782e87&sectionRank=2410&jobId=jobsdb-th-job-300003002435935\n",
            "\n",
            "\n",
            " ######################################################################################################################## \n",
            "\n",
            "\n",
            "Rank 10. Lead DevOps Engineer (80K-160K)(Job ID: 60317) \n",
            "\n",
            "Similarity score : 20.607 %\n",
            "Company: Reeracoen Recruitment Co., Ltd.\n",
            "More information : https://th.jobsdb.com//th/en/job/lead-devops-engineer-80k-160k-job-id%3A-60317-300003002445056?token=0~063c4e1a-6aa2-46b4-be21-0fb6c805c755&sectionRank=1374&jobId=jobsdb-th-job-300003002445056\n",
            "\n",
            "\n",
            " ######################################################################################################################## \n",
            "\n",
            "\n",
            "Rank 11. Senior Quality Engineer / Up to 45K/ Bangsaothong, Samutprakan \n",
            "\n",
            "Similarity score : 20.443 %\n",
            "Company: PERSOLKELLY HR Services Recruitment (Thailand) Co., Ltd.\n",
            "More information : https://th.jobsdb.com//th/en/job/senior-quality-engineer-up-to-45k-bangsaothong-samutprakan-300003002445846?token=0~fd0e1dd2-5b59-41ba-a015-c09c0eab8f91&sectionRank=4479&jobId=jobsdb-th-job-300003002445846\n",
            "\n",
            "\n",
            " ######################################################################################################################## \n",
            "\n",
            "\n",
            "Rank 12. Operation Improvement Manager \n",
            "\n",
            "Similarity score : 20.033 %\n",
            "Company: DHL Supply Chain (Thailand) Ltd.\n",
            "More information : https://th.jobsdb.com//th/en/job/operation-improvement-manager-300003002443128?token=0~05e56fba-734f-4d9a-a010-58a0884fa31e&sectionRank=3798&jobId=jobsdb-th-job-300003002443128\n",
            "\n",
            "\n",
            " ######################################################################################################################## \n",
            "\n",
            "\n",
            "Rank 13. Legal Counsel ASEAN - TH,MM,Laos \n",
            "\n",
            "Similarity score : 19.719 %\n",
            "Company: Bayer Thai Co., Ltd.\n",
            "More information : https://th.jobsdb.com//th/en/job/legal-counsel-asean-th-mm-laos-300003002440682?token=0~50ec53e9-751a-42b0-bfc3-e16a906306b3&sectionRank=4883&jobId=jobsdb-th-job-300003002440682\n",
            "\n",
            "\n",
            " ######################################################################################################################## \n",
            "\n",
            "\n",
            "Rank 14. Cash Management \n",
            "\n",
            "Similarity score : 19.581 %\n",
            "Company: TD Tawandang Co., Ltd.\n",
            "More information : https://th.jobsdb.com//th/en/job/cash-management-300003002448255?token=0~cf46128d-7715-443d-b8c3-bb61f6a23a63&sectionRank=3015&jobId=jobsdb-th-job-300003002448255\n",
            "\n",
            "\n",
            " ######################################################################################################################## \n",
            "\n",
            "\n",
            "Rank 15. HR Manager / Upto 40K/ Starwork Building / Muang, Chiang Mai \n",
            "\n",
            "Similarity score : 18.874 %\n",
            "Company: PERSOLKELLY HR Services Recruitment (Thailand) Co., Ltd.\n",
            "More information : https://th.jobsdb.com//th/en/job/hr-manager-upto-40k-starwork-building-muang-chiang-mai-300003002448772?token=0~23824e06-6c5f-405a-bf92-7de5028ee07a&sectionRank=3826&jobId=jobsdb-th-job-300003002448772\n",
            "\n",
            "\n",
            " ######################################################################################################################## \n",
            "\n",
            "\n",
            "Rank 16. Senior Legal Counsel \n",
            "\n",
            "Similarity score : 18.869 %\n",
            "Company: Bayer Thai Co., Ltd.\n",
            "More information : https://th.jobsdb.com//th/en/job/senior-legal-counsel-300003002437660?token=0~53b8d642-2aa0-414f-ac6a-da47a410e02a&sectionRank=4052&jobId=jobsdb-th-job-300003002437660\n",
            "\n",
            "\n",
            " ######################################################################################################################## \n",
            "\n",
            "\n",
            "Rank 17. Data Analyst \n",
            "\n",
            "Similarity score : 18.063000000000002 %\n",
            "Company: Biopharm Chemicals Co., Ltd.\n",
            "More information : https://th.jobsdb.com//th/en/job/data-analyst-300003002447847?token=0~4015cfd6-7fa4-4c9c-be87-ee88f743e564&sectionRank=108&jobId=jobsdb-th-job-300003002447847\n",
            "\n",
            "\n",
            " ######################################################################################################################## \n",
            "\n",
            "\n",
            "Rank 18. Solution Architect (software development,Java/Spring and/or C# .NET,cloud provider) \n",
            "\n",
            "Similarity score : 17.965 %\n",
            "Company: NES Fircroft\n",
            "More information : https://th.jobsdb.com//th/en/job/solution-architect-software-development-java-spring-and-or-c-net-cloud-provider-300003002448836?token=0~732a3a4f-dbb7-43af-9ffb-fafdb05e276f&sectionRank=4411&jobId=jobsdb-th-job-300003002448836\n",
            "\n",
            "\n",
            " ######################################################################################################################## \n",
            "\n",
            "\n",
            "Rank 19. Project Management Officer \n",
            "\n",
            "Similarity score : 17.4 %\n",
            "Company: FUJITSU (THAILAND) CO., LTD.\n",
            "More information : https://th.jobsdb.com//th/en/job/project-management-officer-300003002435283?token=0~46f5907a-2d9a-41ad-a4cc-6c733d6f53f5&sectionRank=1179&jobId=jobsdb-th-job-300003002435283\n",
            "\n",
            "\n",
            " ######################################################################################################################## \n",
            "\n",
            "\n",
            "Rank 20. Lead Master Data / Sr. Master Data Officer \n",
            "\n",
            "Similarity score : 16.91 %\n",
            "Company: LINXENS (Thailand) Co.,Ltd.\n",
            "More information : https://th.jobsdb.com//th/en/job/lead-master-data-sr-master-data-officer-300003002449062?token=0~4015cfd6-7fa4-4c9c-be87-ee88f743e564&sectionRank=102&jobId=jobsdb-th-job-300003002449062\n",
            "\n",
            "\n",
            " ######################################################################################################################## \n",
            "\n",
            "\n",
            "Rank 21. Pricing Specialist, Airfreight / Oceanfreight \n",
            "\n",
            "Similarity score : 15.784 %\n",
            "Company: DHL Global Forwarding (Thailand) Limited\n",
            "More information : https://th.jobsdb.com//th/en/job/pricing-specialist-airfreight-oceanfreight-300003002439178?token=0~e890abe2-59f1-4667-8f12-5e870651a9c2&sectionRank=720&jobId=jobsdb-th-job-300003002439178\n",
            "\n",
            "\n",
            " ######################################################################################################################## \n",
            "\n",
            "\n",
            "Rank 22. Sales Executive (3+ yrs experience in Sales Seal Packaging ) Salary up to 35K @ Ratchathewi \n",
            "\n",
            "Similarity score : 14.688 %\n",
            "Company: PERSOLKELLY HR Services Recruitment (Thailand) Co., Ltd.\n",
            "More information : https://th.jobsdb.com//th/en/job/sales-executive-3-yrs-experience-in-sales-seal-packaging-salary-up-to-35k-%40-ratchathewi-300003002437904?token=0~f6ba2edf-b047-4ba4-8025-212450bdd78f&sectionRank=4026&jobId=jobsdb-th-job-300003002437904\n",
            "\n",
            "\n",
            " ######################################################################################################################## \n",
            "\n",
            "\n",
            "Rank 23. Senior Specialist/Corporate Actuarial  IFRS (Contract) \n",
            "\n",
            "Similarity score : 14.184 %\n",
            "Company: PRTR Recruitment and Outsourcing\n",
            "More information : https://th.jobsdb.com//th/en/job/senior-specialist-corporate-actuarial-%C2%96-ifrs-contract-300003002446439?token=0~685141dc-a86f-490e-b520-7da8a4ce1e7b&sectionRank=1902&jobId=jobsdb-th-job-300003002446439\n",
            "\n",
            "\n",
            " ######################################################################################################################## \n",
            "\n",
            "\n",
            "Rank 24. Wired Network Engineer \n",
            "\n",
            "Similarity score : 13.741 %\n",
            "Company: Alstom\n",
            "More information : https://th.jobsdb.com//th/en/job/wired-network-engineer-300003002438453?token=0~07b6e2d6-c2ef-4872-a90f-b470e423b478&sectionRank=2996&jobId=jobsdb-th-job-300003002438453\n",
            "\n",
            "\n",
            " ######################################################################################################################## \n",
            "\n",
            "\n",
            "Rank 25. Customer Management Associate-Ocean Import/Export/เจ้าหน้าที่ประสานงานขนส่งทางเรือขาเข้าและขาออก \n",
            "\n",
            "Similarity score : 13.25 %\n",
            "Company: Schenker (Thai) Ltd.\n",
            "More information : https://th.jobsdb.com//th/en/job/customer-management-associate-ocean-import-export-%E0%B9%80%E0%B8%88%E0%B9%89%E0%B8%B2%E0%B8%AB%E0%B8%99%E0%B9%89%E0%B8%B2%E0%B8%97%E0%B8%B5%E0%B9%88%E0%B8%9B%E0%B8%A3%E0%B8%B0%E0%B8%AA%E0%B8%B2%E0%B8%99%E0%B8%87%E0%B8%B2%E0%B8%99%E0%B8%82%E0%B8%99%E0%B8%AA%E0%B9%88%E0%B8%87%E0%B8%97%E0%B8%B2%E0%B8%87%E0%B9%80%E0%B8%A3%E0%B8%B7%E0%B8%AD%E0%B8%82%E0%B8%B2%E0%B9%80%E0%B8%82%E0%B9%89%E0%B8%B2%E0%B9%81%E0%B8%A5%E0%B8%B0%E0%B8%82%E0%B8%B2%E0%B8%AD%E0%B8%AD%E0%B8%81-300003002434389?token=0~4d04c82e-5409-4498-8a89-509b48b41963&sectionRank=4264&jobId=jobsdb-th-job-300003002434389\n",
            "\n",
            "\n",
            " ######################################################################################################################## \n",
            "\n",
            "\n",
            "Rank 26. R&D Equipment Manager ( BTS Bearing ) \n",
            "\n",
            "Similarity score : 13.117 %\n",
            "Company: UTAC Thai Limited\n",
            "More information : https://th.jobsdb.com//th/en/job/r-d-equipment-manager-bts-bearing-300003002448247?token=0~eb311166-7083-47ec-b6fd-f3e6bc9cea00&sectionRank=2151&jobId=jobsdb-th-job-300003002448247\n",
            "\n",
            "\n",
            " ######################################################################################################################## \n",
            "\n",
            "\n",
            "Rank 27. BUSINESS DEVELOPMEN MANAGER – Thailand Office \n",
            "\n",
            "Similarity score : 13.094 %\n",
            "Company: Green Earth Power (Thailand) Company Limited\n",
            "More information : https://th.jobsdb.com//th/en/job/business-developmen-manager-thailand-office-300003002431740?token=0~a794015c-6b73-418f-8423-c94f49979655&sectionRank=1776&jobId=jobsdb-th-job-300003002431740\n",
            "\n",
            "\n",
            " ######################################################################################################################## \n",
            "\n",
            "\n",
            "Rank 28. Brand Partnership, Campaign and Monetization \n",
            "\n",
            "Similarity score : 12.988 %\n",
            "Company: Shopee (Thailand) Co., Ltd.\n",
            "More information : https://th.jobsdb.com//th/en/job/brand-partnership-campaign-and-monetization-300003002440501?token=0~7ba1b570-f3b5-45ba-812e-4ecf092120d1&sectionRank=3185&jobId=jobsdb-th-job-300003002440501\n",
            "\n",
            "\n",
            " ######################################################################################################################## \n",
            "\n",
            "\n",
            "Rank 29. Business Analyst \n",
            "\n",
            "Similarity score : 12.794 %\n",
            "Company: Nemera International Co., Ltd.\n",
            "More information : https://th.jobsdb.com//th/en/job/business-analyst-300003002435199?token=0~ba8cff1c-8e81-457c-99a8-7b714914ab67&sectionRank=196&jobId=jobsdb-th-job-300003002435199\n",
            "\n",
            "\n",
            " ######################################################################################################################## \n",
            "\n",
            "\n",
            "Rank 30. Senior Business Strategist - Kasikorn Private Banking \n",
            "\n",
            "Similarity score : 12.523000000000001 %\n",
            "Company: KASIKORNBANK PUBLIC COMPANY LIMITED\n",
            "More information : https://th.jobsdb.com//th/en/job/senior-business-strategist-kasikorn-private-banking-300003002432361?token=0~0559547a-9547-4c8a-866b-08fe39ed0910&sectionRank=1569&jobId=jobsdb-th-job-300003002432361\n",
            "\n",
            "\n",
            " ######################################################################################################################## \n",
            "\n",
            "\n",
            "Rank 31. Risk Management Manager \n",
            "\n",
            "Similarity score : 12.253 %\n",
            "Company: Amata Corporation Public Company Limited\n",
            "More information : https://th.jobsdb.com//th/en/job/risk-management-manager-300003002431181?token=0~17390d1a-fc8b-45f4-84f8-f10d357c442e&sectionRank=2682&jobId=jobsdb-th-job-300003002431181\n",
            "\n",
            "\n",
            " ######################################################################################################################## \n",
            "\n",
            "\n",
            "Rank 32. SAP Consultant (PS Module) - Up to 110K - MRT สุทธิสาร or WFH \n",
            "\n",
            "Similarity score : 11.972 %\n",
            "Company: PERSOLKELLY HR Services Recruitment (Thailand) Co., Ltd.\n",
            "More information : https://th.jobsdb.com//th/en/job/sap-consultant-ps-module-up-to-110k-mrt-%E0%B8%AA%E0%B8%B8%E0%B8%97%E0%B8%98%E0%B8%B4%E0%B8%AA%E0%B8%B2%E0%B8%A3-or-wfh-300003002440435?token=0~17390d1a-fc8b-45f4-84f8-f10d357c442e&sectionRank=2691&jobId=jobsdb-th-job-300003002440435\n",
            "\n",
            "\n",
            " ######################################################################################################################## \n",
            "\n",
            "\n",
            "Rank 33. Air Logistics Operational Care Specialist (Booking) \n",
            "\n",
            "Similarity score : 11.945 %\n",
            "Company: Kuehne+Nagel Limited\n",
            "More information : https://th.jobsdb.com//th/en/job/air-logistics-operational-care-specialist-booking-300003002432940?token=0~31d9af01-f0ab-46ce-a8ae-8ce973beed21&sectionRank=4113&jobId=jobsdb-th-job-300003002432940\n",
            "\n",
            "\n",
            " ######################################################################################################################## \n",
            "\n",
            "\n",
            "Rank 34. Brand Partnership - Strategic and Planning Analysis \n",
            "\n",
            "Similarity score : 11.859 %\n",
            "Company: Shopee (Thailand) Co., Ltd.\n",
            "More information : https://th.jobsdb.com//th/en/job/brand-partnership-strategic-and-planning-analysis-300003002440502?token=0~b216a608-2bcb-4543-b321-7284efac57a1&sectionRank=1805&jobId=jobsdb-th-job-300003002440502\n",
            "\n",
            "\n",
            " ######################################################################################################################## \n",
            "\n",
            "\n",
            "Rank 35. People Initiative, People Strategic Partner \n",
            "\n",
            "Similarity score : 11.806 %\n",
            "Company: Learn Corporation Co., Ltd.\n",
            "More information : https://th.jobsdb.com//th/en/job/people-initiative-people-strategic-partner-300003002447162?token=0~7b99b655-b303-43df-a95e-03eab3755217&sectionRank=3869&jobId=jobsdb-th-job-300003002447162\n",
            "\n",
            "\n",
            " ######################################################################################################################## \n",
            "\n",
            "\n",
            "Rank 36. Inbound Team Lead (Warehouse Bangna KM.23) \n",
            "\n",
            "Similarity score : 11.625 %\n",
            "Company: Shopee (Thailand) Co., Ltd.\n",
            "More information : https://th.jobsdb.com//th/en/job/inbound-team-lead-warehouse-bangna-km-23-300003002445547?token=0~3e6649f0-e984-4fd1-a4e6-2da7815edb73&sectionRank=4348&jobId=jobsdb-th-job-300003002445547\n",
            "\n",
            "\n",
            " ######################################################################################################################## \n",
            "\n",
            "\n",
            "Rank 37. Senior Internal Auditor \n",
            "\n",
            "Similarity score : 11.425 %\n",
            "Company: Lumentum International (Thailand) Co., Ltd.\n",
            "More information : https://th.jobsdb.com//th/en/job/senior-internal-auditor-300003002436915?token=0~17cccac2-4f48-4f96-9059-156b61530d5c&sectionRank=2439&jobId=jobsdb-th-job-300003002436915\n",
            "\n",
            "\n",
            " ######################################################################################################################## \n",
            "\n",
            "\n",
            "Rank 38. Analyst Logistics (Import / Export) \n",
            "\n",
            "Similarity score : 11.363 %\n",
            "Company: Harley-Davidson (Thailand) Limited\n",
            "More information : https://th.jobsdb.com//th/en/job/analyst-logistics-import-export-300003002436696?token=0~72467971-cf0e-4a13-a420-937c6f418ff9&sectionRank=2004&jobId=jobsdb-th-job-300003002436696\n",
            "\n",
            "\n",
            " ######################################################################################################################## \n",
            "\n",
            "\n",
            "Rank 39. System Analyst (POS system, CRM and customer loyalty platform) \n",
            "\n",
            "Similarity score : 11.236 %\n",
            "Company: PTT Digital Solutions Company Limited\n",
            "More information : https://th.jobsdb.com//th/en/job/system-analyst-pos-system-crm-and-customer-loyalty-platform-300003002437403?token=0~2fb82e45-a553-483d-9138-000567c35051&sectionRank=822&jobId=jobsdb-th-job-300003002437403\n",
            "\n",
            "\n",
            " ######################################################################################################################## \n",
            "\n",
            "\n",
            "Rank 40. Senior Business Analyst (100K) \n",
            "\n",
            "Similarity score : 11.184 %\n",
            "Company: Argyll Scott Asia\n",
            "More information : https://th.jobsdb.com//th/en/job/senior-business-analyst-100k-300003002436232?token=0~2fb82e45-a553-483d-9138-000567c35051&sectionRank=835&jobId=jobsdb-th-job-300003002436232\n",
            "\n",
            "\n",
            " ######################################################################################################################## \n",
            "\n",
            "\n",
            "Rank 41. National Finance Working Capital Manager \n",
            "\n",
            "Similarity score : 11.105 %\n",
            "Company: Kuehne + Nagel Limited\n",
            "More information : https://th.jobsdb.com//th/en/job/national-finance-working-capital-manager-300003002448475?token=0~250cca7a-26ce-41a7-866b-4f721b395db0&sectionRank=4467&jobId=jobsdb-th-job-300003002448475\n",
            "\n",
            "\n",
            " ######################################################################################################################## \n",
            "\n",
            "\n",
            "Rank 42. Specialist, CI - FN (BB) \n",
            "\n",
            "Similarity score : 11.04 %\n",
            "Company: PANDORA\n",
            "More information : https://th.jobsdb.com//th/en/job/specialist-ci-fn-bb-300003002448316?token=0~44674a4d-2734-4a4b-b3b8-a5c4366558ba&sectionRank=4198&jobId=jobsdb-th-job-300003002448316\n",
            "\n",
            "\n",
            " ######################################################################################################################## \n",
            "\n",
            "\n",
            "Rank 43. Systems Analyst/Systems-Analyst \n",
            "\n",
            "Similarity score : 11.031 %\n",
            "Company: Phillip Life Assurance Public Company Limited\n",
            "More information : https://th.jobsdb.com//th/en/job/systems-analyst-systems-analyst-300003002436145?token=0~486079de-529c-4f29-851a-51499573fa33&sectionRank=1147&jobId=jobsdb-th-job-300003002436145\n",
            "\n",
            "\n",
            " ######################################################################################################################## \n",
            "\n",
            "\n",
            "Rank 44. BD Operations Excellence \n",
            "\n",
            "Similarity score : 10.886999999999999 %\n",
            "Company: ShopeePay (Thailand) Co., Ltd.\n",
            "More information : https://th.jobsdb.com//th/en/job/bd-operations-excellence-300003002433039?token=0~2e149951-b94a-4316-a22f-f404dbfc7a0d&sectionRank=1697&jobId=jobsdb-th-job-300003002433039\n",
            "\n",
            "\n",
            " ######################################################################################################################## \n",
            "\n",
            "\n",
            "Rank 45. Senior Incident Management - True Money \n",
            "\n",
            "Similarity score : 10.884 %\n",
            "Company: Ascend Group Co., Ltd.\n",
            "More information : https://th.jobsdb.com//th/en/job/senior-incident-management-true-money-300003002431856?token=0~281311e7-e5ec-4a27-b502-7efdabeec960&sectionRank=2242&jobId=jobsdb-th-job-300003002431856\n",
            "\n",
            "\n",
            " ######################################################################################################################## \n",
            "\n",
            "\n",
            "Rank 46. Manpower and Sourcing Specialist \n",
            "\n",
            "Similarity score : 10.684000000000001 %\n",
            "Company: Shopee Express (Thailand) Co., Ltd. (Head Office)\n",
            "More information : https://th.jobsdb.com//th/en/job/manpower-and-sourcing-specialist-300003002441091?token=0~eb311166-7083-47ec-b6fd-f3e6bc9cea00&sectionRank=2154&jobId=jobsdb-th-job-300003002441091\n",
            "\n",
            "\n",
            " ######################################################################################################################## \n",
            "\n",
            "\n",
            "Rank 47. Junior Business Development \n",
            "\n",
            "Similarity score : 10.496 %\n",
            "Company: Elabram Systems Co., Ltd.\n",
            "More information : https://th.jobsdb.com//th/en/job/junior-business-development-300003002445027?token=0~0bef21c7-0528-46a2-aa55-0ebf2df1a28e&sectionRank=1134&jobId=jobsdb-th-job-300003002445027\n",
            "\n",
            "\n",
            " ######################################################################################################################## \n",
            "\n",
            "\n",
            "Rank 48. IP Product  Manager (Enterprise Business) \n",
            "\n",
            "Similarity score : 10.274 %\n",
            "Company: Huawei Technologies (Thailand) Co., Ltd.\n",
            "More information : https://th.jobsdb.com//th/en/job/ip-product-manager-enterprise-business-300003002440426?token=0~38483d85-4b4b-4993-8928-8381d505b62b&sectionRank=2720&jobId=jobsdb-th-job-300003002440426\n",
            "\n",
            "\n",
            " ######################################################################################################################## \n",
            "\n",
            "\n",
            "Rank 49. Cross Border Project Management (Warehouse Bangna KM 23) \n",
            "\n",
            "Similarity score : 10.273 %\n",
            "Company: Shopee (Thailand) Co., Ltd.\n",
            "More information : https://th.jobsdb.com//th/en/job/cross-border-project-management-warehouse-bangna-km-23-300003002447257?token=0~281311e7-e5ec-4a27-b502-7efdabeec960&sectionRank=2241&jobId=jobsdb-th-job-300003002447257\n",
            "\n",
            "\n",
            " ######################################################################################################################## \n",
            "\n",
            "\n",
            "Rank 50. Senior Data Analyst (Tableau) \n",
            "\n",
            "Similarity score : 9.982000000000001 %\n",
            "Company: Fillgoods Technology Co., Ltd.\n",
            "More information : https://th.jobsdb.com//th/en/job/senior-data-analyst-tableau-300003002437167?token=0~c69190f9-bef7-4eb9-92a8-bb4422a0a47f&sectionRank=269&jobId=jobsdb-th-job-300003002437167\n",
            "\n",
            "\n",
            " ######################################################################################################################## \n",
            "\n",
            "\n"
          ]
        }
      ]
    }
  ]
}